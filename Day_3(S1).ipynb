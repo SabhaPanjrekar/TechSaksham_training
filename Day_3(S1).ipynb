{
 "cells": [
  {
   "cell_type": "code",
   "execution_count": 27,
   "id": "02f7a888-f069-4402-a14b-49951b16627b",
   "metadata": {},
   "outputs": [
    {
     "name": "stdout",
     "output_type": "stream",
     "text": [
      "Calculator:\n",
      "1. Addition\n",
      "2. Subtraction\n",
      "3. Multiplication\n",
      "4. Division\n"
     ]
    },
    {
     "name": "stdin",
     "output_type": "stream",
     "text": [
      "Enter your choice(1/2/3/4): 1\n",
      "Enter number 1: 10\n",
      "Enter number 2: 20\n"
     ]
    },
    {
     "name": "stdout",
     "output_type": "stream",
     "text": [
      "The result is: 30.0\n"
     ]
    }
   ],
   "source": [
    "# Take 2 input numbers from user and give an option to perform basic operation add,sub,mult,div\n",
    "# Perform it using functions and variable argument and display the ouptut\n",
    "\n",
    "def add(a,b):\n",
    "    return (a+b)\n",
    "\n",
    "def sub(a,b):\n",
    "    return (a-b)\n",
    "\n",
    "def mult(a,b):\n",
    "    result = 1\n",
    "    for num in (a,b):\n",
    "        result *= num\n",
    "    return result\n",
    "\n",
    "def div(a,b):\n",
    "    if b == 0:\n",
    "        print(\"Zero division not allowed\")\n",
    "    return a/b\n",
    "\n",
    "print(\"Calculator:\")\n",
    "print(\"1. Addition\")\n",
    "print(\"2. Subtraction\")\n",
    "print(\"3. Multiplication\")\n",
    "print(\"4. Division\")\n",
    "\n",
    "choice = input(\"Enter your choice(1/2/3/4):\")\n",
    "num1 = float(input(\"Enter number 1:\"))\n",
    "num2 = float(input(\"Enter number 2:\"))\n",
    "\n",
    "if choice == '1':\n",
    "    print(f\"The result is: {add(num1, num2)}\")\n",
    "elif choice == '2':\n",
    "    print(f\"The result is: {sub(num1, num2)}\")\n",
    "elif choice == '3':\n",
    "    print(f\"The result is: {mult(num1, num2)}\")\n",
    "elif choice == '4':\n",
    "    print(f\"The result is: {div(num1, num2)}\")\n",
    "else:\n",
    "    print(\"Invalid input\")"
   ]
  },
  {
   "cell_type": "code",
   "execution_count": 35,
   "id": "dd16bd6a-c661-4301-9650-4793584c05b9",
   "metadata": {},
   "outputs": [
    {
     "name": "stdout",
     "output_type": "stream",
     "text": [
      "Select operation:\n",
      "1. Addition\n",
      "2. Subtraction\n",
      "3. Multiplication\n",
      "4. Division\n",
      "5. Exit\n"
     ]
    },
    {
     "name": "stdin",
     "output_type": "stream",
     "text": [
      "Enter choice (1/2/3/4/5):  1\n",
      "Enter first number:  10\n",
      "Enter next number:  20\n"
     ]
    },
    {
     "name": "stdout",
     "output_type": "stream",
     "text": [
      "The result is: 30.0\n",
      "\n",
      "Select operation:\n",
      "1. Addition\n",
      "2. Subtraction\n",
      "3. Multiplication\n",
      "4. Division\n",
      "5. Exit\n"
     ]
    },
    {
     "name": "stdin",
     "output_type": "stream",
     "text": [
      "Enter choice (1/2/3/4/5):  4\n",
      "Enter next number:  10\n"
     ]
    },
    {
     "name": "stdout",
     "output_type": "stream",
     "text": [
      "The result is: 3.0\n",
      "\n",
      "Select operation:\n",
      "1. Addition\n",
      "2. Subtraction\n",
      "3. Multiplication\n",
      "4. Division\n",
      "5. Exit\n"
     ]
    },
    {
     "name": "stdin",
     "output_type": "stream",
     "text": [
      "Enter choice (1/2/3/4/5):  5\n"
     ]
    },
    {
     "name": "stdout",
     "output_type": "stream",
     "text": [
      "Exiting the program.\n"
     ]
    }
   ],
   "source": [
    "# store the result in new variable and perform the next operation b/w result and new number.\n",
    "# then display the new result. \n",
    "# continue until user wishes to exit.\n",
    "\n",
    "def add(a,b):\n",
    "    return a + b\n",
    "\n",
    "def subtract(a, b):\n",
    "    return a - b\n",
    "\n",
    "def multiply(a,b):\n",
    "    result = 1\n",
    "    for num in (a,b):\n",
    "        result *= num\n",
    "    return result\n",
    "\n",
    "def divide(a, b):\n",
    "    if b == 0:\n",
    "        return \"Division by zero is not allowed.\"\n",
    "    return a / b\n",
    "\n",
    "result = None\n",
    "\n",
    "while True:\n",
    "    print(\"Select operation:\")\n",
    "    print(\"1. Addition\")\n",
    "    print(\"2. Subtraction\")\n",
    "    print(\"3. Multiplication\")\n",
    "    print(\"4. Division\")\n",
    "    print(\"5. Exit\")\n",
    "\n",
    "    choice = input(\"Enter choice (1/2/3/4/5): \")\n",
    "\n",
    "    if choice == '5':\n",
    "        print(\"Exiting the program.\")\n",
    "        break\n",
    "\n",
    "    if result is None:\n",
    "        num1 = float(input(\"Enter first number: \"))\n",
    "    else:\n",
    "        num1 = result\n",
    "\n",
    "    num2 = float(input(\"Enter next number: \"))\n",
    "\n",
    "    if choice == '1':\n",
    "        result = add(num1, num2)\n",
    "    elif choice == '2':\n",
    "        result = subtract(num1, num2)\n",
    "    elif choice == '3':\n",
    "        result = multiply(num1, num2)\n",
    "    elif choice == '4':\n",
    "        result = divide(num1, num2)\n",
    "    else:\n",
    "        print(\"Invalid input\")\n",
    "        continue\n",
    "\n",
    "    print(f\"The result is: {result}\\n\")\n"
   ]
  },
  {
   "cell_type": "code",
   "execution_count": 56,
   "id": "cde38a31-c3a9-435e-b261-cba515613150",
   "metadata": {},
   "outputs": [
    {
     "data": {
      "text/plain": [
       "0.3497496381300669"
      ]
     },
     "execution_count": 56,
     "metadata": {},
     "output_type": "execute_result"
    }
   ],
   "source": [
    "import random as rand\n",
    "\n",
    "rand.random()\n"
   ]
  },
  {
   "cell_type": "code",
   "execution_count": 58,
   "id": "937b6525-2942-4af8-95aa-04e9657c6b99",
   "metadata": {},
   "outputs": [
    {
     "data": {
      "text/plain": [
       "91"
      ]
     },
     "execution_count": 58,
     "metadata": {},
     "output_type": "execute_result"
    }
   ],
   "source": [
    "import random as rand\n",
    "\n",
    "rand.randint(0,100)"
   ]
  },
  {
   "cell_type": "code",
   "execution_count": 76,
   "id": "04e11786-66b5-42c9-b6f9-e4ac16dca392",
   "metadata": {},
   "outputs": [
    {
     "name": "stdout",
     "output_type": "stream",
     "text": [
      "Heads\n"
     ]
    }
   ],
   "source": [
    "import random as rand\n",
    "\n",
    "toss = rand.randint(0,1)\n",
    "\n",
    "if toss == 0:\n",
    "    print(\"Heads\")\n",
    "else:\n",
    "    print(\"Tails\")"
   ]
  },
  {
   "cell_type": "code",
   "execution_count": 80,
   "id": "0032e20a-22d7-4616-86e3-25090afdcf99",
   "metadata": {},
   "outputs": [],
   "source": [
    "# single line if else\n",
    "# <true statement> if <condition> else <false statement>"
   ]
  },
  {
   "cell_type": "code",
   "execution_count": 88,
   "id": "b48b39ce-68b7-4f03-81bc-eeccc338dec1",
   "metadata": {},
   "outputs": [
    {
     "data": {
      "text/plain": [
       "'Aaryan'"
      ]
     },
     "execution_count": 88,
     "metadata": {},
     "output_type": "execute_result"
    }
   ],
   "source": [
    "import random as rand\n",
    "names = [\"Aaryan\",\"Sabha\",\"Aadi\"]\n",
    "rand.choice(names)"
   ]
  },
  {
   "cell_type": "code",
   "execution_count": 174,
   "id": "1306d43e-25f6-4e4e-8487-f14f323e5809",
   "metadata": {},
   "outputs": [
    {
     "name": "stdout",
     "output_type": "stream",
     "text": [
      "Sabha has to pay the bill\n",
      "Pay the bill ASAP!\n"
     ]
    }
   ],
   "source": [
    "# WAP which will select a random name from a list of names.\n",
    "# The person selected has to pay the bill.\n",
    "# without using choice function.\n",
    "\n",
    "import random as rand\n",
    "\n",
    "names = [\"Aaryan\",\"Sabha\",\"Aadi\",\"Sanskruti\",\"Sayam\"]\n",
    "names1 = rand.randint(0,4)\n",
    "\n",
    "if names1 == 0:\n",
    "    print(f\"{names[0]} has to pay the bill\")\n",
    "elif names1 == 1:\n",
    "    print(f\"{names[1]} has to pay the bill\")\n",
    "elif names1 == 2:\n",
    "    print(f\"{names[2]} has to pay the bill\")\n",
    "elif names1 == 3:\n",
    "    print(f\"{names[3]} has to pay the bill\")\n",
    "else:\n",
    "    print(f\"{names[4]} has to pay the bill\")\n",
    "    \n",
    "print(\"Pay the bill ASAP!\")"
   ]
  },
  {
   "cell_type": "code",
   "execution_count": 186,
   "id": "7baf0fdf-5b9a-44db-ac5b-35b9bca2be9e",
   "metadata": {},
   "outputs": [
    {
     "name": "stdout",
     "output_type": "stream",
     "text": [
      "Guess the number between 1 and 100!\n"
     ]
    },
    {
     "name": "stdin",
     "output_type": "stream",
     "text": [
      "Your guess:  20\n"
     ]
    },
    {
     "name": "stdout",
     "output_type": "stream",
     "text": [
      "Too low, try again.\n"
     ]
    },
    {
     "name": "stdin",
     "output_type": "stream",
     "text": [
      "Your guess:  5\n"
     ]
    },
    {
     "name": "stdout",
     "output_type": "stream",
     "text": [
      "Too low, try again.\n"
     ]
    },
    {
     "name": "stdin",
     "output_type": "stream",
     "text": [
      "Your guess:  50\n"
     ]
    },
    {
     "name": "stdout",
     "output_type": "stream",
     "text": [
      "Too high, try again.\n"
     ]
    },
    {
     "name": "stdin",
     "output_type": "stream",
     "text": [
      "Your guess:  40\n"
     ]
    },
    {
     "name": "stdout",
     "output_type": "stream",
     "text": [
      "Too low, try again.\n"
     ]
    },
    {
     "name": "stdin",
     "output_type": "stream",
     "text": [
      "Your guess:  45\n"
     ]
    },
    {
     "name": "stdout",
     "output_type": "stream",
     "text": [
      "Correct! You guessed it!\n"
     ]
    }
   ],
   "source": [
    "# random number guessing game\n",
    "import random as rand\n",
    "\n",
    "number_to_guess = rand.randint(1, 100)\n",
    "print(\"Guess the number between 1 and 100!\")\n",
    "\n",
    "while True:\n",
    "    guess = int(input(\"Your guess: \"))\n",
    "    if guess == number_to_guess:\n",
    "        print(\"Correct! You guessed it!\")\n",
    "        break\n",
    "    elif guess < number_to_guess:\n",
    "        print(\"Too low, try again.\")\n",
    "    else:\n",
    "        print(\"Too high, try again.\")"
   ]
  }
 ],
 "metadata": {
  "kernelspec": {
   "display_name": "Python [conda env:base] *",
   "language": "python",
   "name": "conda-base-py"
  },
  "language_info": {
   "codemirror_mode": {
    "name": "ipython",
    "version": 3
   },
   "file_extension": ".py",
   "mimetype": "text/x-python",
   "name": "python",
   "nbconvert_exporter": "python",
   "pygments_lexer": "ipython3",
   "version": "3.12.7"
  }
 },
 "nbformat": 4,
 "nbformat_minor": 5
}
