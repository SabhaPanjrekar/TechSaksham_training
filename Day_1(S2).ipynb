{
 "cells": [
  {
   "cell_type": "code",
   "execution_count": 58,
   "id": "08e66967-c27d-4b5f-ba8e-f79a912baab4",
   "metadata": {},
   "outputs": [
    {
     "name": "stdout",
     "output_type": "stream",
     "text": [
      "a is greatest\n"
     ]
    }
   ],
   "source": [
    "#greatest of all 3\n",
    "a = 50\n",
    "b = 20\n",
    "c = 30\n",
    "if(a>b and a>c):\n",
    "    print(\"a is greatest\")\n",
    "elif(b>c and b>a):\n",
    "    print(\"b is greatest\")\n",
    "else:\n",
    "    print(\"c is greatest\")"
   ]
  },
  {
   "cell_type": "code",
   "execution_count": 9,
   "id": "28079fbb-8417-4c76-9176-11789fa4a3a5",
   "metadata": {},
   "outputs": [
    {
     "name": "stdin",
     "output_type": "stream",
     "text": [
      "Enter number of units 3550\n"
     ]
    },
    {
     "name": "stdout",
     "output_type": "stream",
     "text": [
      "Electricity Bill is: Rs 43600.0\n"
     ]
    }
   ],
   "source": [
    "#electricity bill\n",
    "#3550 units 43600 rs\n",
    "unit = float(input(\"Enter number of units\"))\n",
    "if(unit<=200):\n",
    "    price = 0\n",
    "elif(unit<=500):\n",
    "    price = (unit-200)*8\n",
    "elif(unit<=1000):\n",
    "    price = (unit-500)*11\n",
    "else:\n",
    "    price = (300*8)+(500*11)+(unit-1000)*14\n",
    "print(\"Electricity Bill is: Rs\",price)"
   ]
  },
  {
   "cell_type": "code",
   "execution_count": 50,
   "id": "66852ec0-f15d-4e7e-ab1d-80a2f71b3a65",
   "metadata": {},
   "outputs": [
    {
     "name": "stdin",
     "output_type": "stream",
     "text": [
      "Enter the total amount 4500000\n",
      "Enter the savings amount 150000\n"
     ]
    },
    {
     "name": "stdout",
     "output_type": "stream",
     "text": [
      "Tax is: Rs 985000.0\n"
     ]
    }
   ],
   "source": [
    "#ITR\n",
    "# first 10L 10%\n",
    "# next 12L 20%\n",
    "# next 30L 30%\n",
    "#max savings 2l\n",
    "# 4500000 total 150000 savings 985000 tax\n",
    "# 6200000 total 350000 savings 1480000 tax\n",
    "\n",
    "total = float(input(\"Enter the total amount\"))\n",
    "savings = float(input(\"Enter the savings amount\"))\n",
    "if(savings <= 200000):\n",
    "    remaining = total - savings\n",
    "else:\n",
    "    remaining = total - 200000\n",
    "    \n",
    "if(remaining <= 1000000):\n",
    "    tax = remaining*0.1\n",
    "elif(remaining <= 2200000):\n",
    "    tax = (remaining-1000000)*0.2\n",
    "else:\n",
    "    tax = (1000000*0.1)+(1200000*0.2)+(remaining-2200000)*0.3\n",
    "    \n",
    "print(\"Tax is: Rs\",tax)"
   ]
  },
  {
   "cell_type": "code",
   "execution_count": 54,
   "id": "d98736b5-eb08-464e-afbd-171445bc2b6f",
   "metadata": {},
   "outputs": [
    {
     "name": "stdin",
     "output_type": "stream",
     "text": [
      "Enter the amount:  6500000\n"
     ]
    },
    {
     "name": "stdout",
     "output_type": "stream",
     "text": [
      "Interest is: Rs 1045000.0\n"
     ]
    }
   ],
   "source": [
    "#Interest on savings acc\n",
    "# First 10L 10%\n",
    "# Next 15L 15%\n",
    "# Next 18%\n",
    "# amt 6500000 int 1045000\n",
    "\n",
    "amount = float(input(\"Enter the amount: \"))\n",
    "if(amount <= 1000000):\n",
    "    interest = amount*0.1\n",
    "elif(amount <= 2500000):\n",
    "    interest = (amount-1000000)*0.15\n",
    "else:\n",
    "    interest = (1000000*0.1)+(1500000*0.15)+(amount-2500000)*0.18\n",
    "\n",
    "print(\"Interest is: Rs\",interest)"
   ]
  },
  {
   "cell_type": "code",
   "execution_count": 91,
   "id": "06cefdb4-0396-4296-b519-b8086ae50611",
   "metadata": {},
   "outputs": [
    {
     "name": "stdin",
     "output_type": "stream",
     "text": [
      "Enter the number of rows:  5\n"
     ]
    },
    {
     "name": "stdout",
     "output_type": "stream",
     "text": [
      "    * \n",
      "   * * \n",
      "  * * * \n",
      " * * * * \n",
      "* * * * * \n"
     ]
    }
   ],
   "source": [
    "# star pattern\n",
    "rows = int(input(\"Enter the number of rows: \"))\n",
    "\n",
    "for i in range(1, rows + 1):\n",
    "    print(\" \" * (rows - i) + \"* \" * i)"
   ]
  },
  {
   "cell_type": "code",
   "execution_count": 93,
   "id": "e7b1c183-7474-44d1-a88d-781560b35af4",
   "metadata": {},
   "outputs": [
    {
     "data": {
      "text/plain": [
       "[1, 2, 3, 4, 5, 6, 7, 8, 9]"
      ]
     },
     "execution_count": 93,
     "metadata": {},
     "output_type": "execute_result"
    }
   ],
   "source": [
    "#ascending order\n",
    "list = [1,2,5,9,4,8,6,3,7]\n",
    "list.sort()\n",
    "list"
   ]
  },
  {
   "cell_type": "code",
   "execution_count": 113,
   "id": "b1ff515d-0739-4c02-b8c7-b60daa2f84f8",
   "metadata": {},
   "outputs": [
    {
     "data": {
      "text/plain": [
       "[9, 8, 7, 6, 5, 4, 3, 2, 1]"
      ]
     },
     "execution_count": 113,
     "metadata": {},
     "output_type": "execute_result"
    }
   ],
   "source": [
    "#descending order\n",
    "list = [1,3,5,7,9,2,4,6,8]\n",
    "list.sort(reverse = True)\n",
    "list"
   ]
  },
  {
   "cell_type": "code",
   "execution_count": 117,
   "id": "5269bb27-356a-404a-a332-301b224b9dfa",
   "metadata": {},
   "outputs": [
    {
     "data": {
      "text/plain": [
       "'arthsarahaM ,rupaloS ,ygolonhceT fo etutitsnI dnahclaW'"
      ]
     },
     "execution_count": 117,
     "metadata": {},
     "output_type": "execute_result"
    }
   ],
   "source": [
    "#\"Walchand Institute of Technology, Solapur, Maharashtra\" \n",
    "# reverse,even part,odd part,split,vowels,count no. of char\n",
    "str = \"Walchand Institute of Technology, Solapur, Maharashtra\" \n",
    "str[::-1]"
   ]
  },
  {
   "cell_type": "code",
   "execution_count": 123,
   "id": "616311ea-2d00-410d-b3b1-0589fa547acf",
   "metadata": {},
   "outputs": [
    {
     "data": {
      "text/plain": [
       "54"
      ]
     },
     "execution_count": 123,
     "metadata": {},
     "output_type": "execute_result"
    }
   ],
   "source": [
    "str = \"Walchand Institute of Technology, Solapur, Maharashtra\" \n",
    "len(str)"
   ]
  },
  {
   "cell_type": "code",
   "execution_count": 127,
   "id": "5ec5829f-87df-4bd0-a0c9-0ff5b14d571c",
   "metadata": {},
   "outputs": [
    {
     "data": {
      "text/plain": [
       "['Walchand', 'Institute', 'of', 'Technology', 'Solapur', 'Maharashtra']"
      ]
     },
     "execution_count": 127,
     "metadata": {},
     "output_type": "execute_result"
    }
   ],
   "source": [
    "str = \"Walchand Institute of Technology Solapur Maharashtra\" \n",
    "str.split()"
   ]
  },
  {
   "cell_type": "code",
   "execution_count": 15,
   "id": "2a27e8b7-42b8-46aa-b2ae-86a9822a64f6",
   "metadata": {},
   "outputs": [
    {
     "name": "stdout",
     "output_type": "stream",
     "text": [
      "Counter({'a': 7, ' ': 5, 'h': 4, 't': 4, 'o': 4, 'l': 3, 'n': 3, 'r': 3, 'c': 2, 's': 2, 'u': 2, 'e': 2, 'W': 1, 'd': 1, 'I': 1, 'i': 1, 'f': 1, 'T': 1, 'g': 1, 'y': 1, 'S': 1, 'p': 1, 'M': 1})\n"
     ]
    }
   ],
   "source": [
    "from collections import Counter\n",
    "str = \"Walchand Institute of Technology Solapur Maharashtra\" \n",
    "char_count = Counter(str)\n",
    "print(char_count)"
   ]
  },
  {
   "cell_type": "code",
   "execution_count": 35,
   "id": "9b004bf4-cf75-423f-92d0-90768f333f1c",
   "metadata": {},
   "outputs": [
    {
     "name": "stdin",
     "output_type": "stream",
     "text": [
      "Enter a sentence:  Walchand Institute of Technology\n"
     ]
    },
    {
     "name": "stdout",
     "output_type": "stream",
     "text": [
      "Input Sentence: Walchand Institute of Technology\n",
      "Reversed Sentence: ygolonhceT fo etutitsnI dnahclaW\n",
      "Indexes of Even Letters: [0, 2, 4, 6, 8, 10, 12, 14, 16, 18, 20, 22, 24, 26, 28, 30]\n",
      "Indexes of Odd Letters: [1, 3, 5, 7, 9, 11, 13, 15, 17, 19, 21, 23, 25, 27, 29, 31]\n",
      "Words in Sentence: ['Walchand', 'Institute', 'of', 'Technology']\n",
      "Vowels in Sentence: ['a', 'a', 'I', 'i', 'u', 'e', 'o', 'e', 'o', 'o']\n",
      "Repeating Characters Count: {'a': 2, 'l': 2, 'c': 2, 'h': 2, 'n': 3, ' ': 3, 't': 3, 'e': 2, 'o': 3}\n"
     ]
    },
    {
     "name": "stdin",
     "output_type": "stream",
     "text": [
      "Enter a sentence:  Walchand Institute of Technology\n"
     ]
    },
    {
     "name": "stdout",
     "output_type": "stream",
     "text": [
      "Input Sentence: Walchand Institute of Technology\n",
      "Modified Sentence: W*lch*nd Institute of Technology\n"
     ]
    }
   ],
   "source": [
    "sentence = input(\"Enter a sentence: \")\n",
    "print(\"Input Sentence:\", sentence)\n",
    "\n",
    "# Reverse the sentence\n",
    "def reverse_sentence(sentence):\n",
    "    reversed_str = \"\"\n",
    "    for ch in sentence[::-1]:\n",
    "        reversed_str += ch\n",
    "    return reversed_str\n",
    "\n",
    "# Get indexes of even letters\n",
    "def even_letter_indexes(sentence):\n",
    "    even_indexes = []\n",
    "    for i in range(len(sentence)):\n",
    "        if i % 2 == 0:\n",
    "            even_indexes.append(i)\n",
    "    return even_indexes\n",
    "\n",
    "# Get indexes of odd letters\n",
    "def odd_letter_indexes(sentence):\n",
    "    odd_indexes = []\n",
    "    for i in range(len(sentence)):\n",
    "        if i % 2 != 0:\n",
    "            odd_indexes.append(i)\n",
    "    return odd_indexes\n",
    "\n",
    "# Split sentence into words \n",
    "def split_words(sentence):\n",
    "    words = []\n",
    "    word = \"\"\n",
    "    for ch in sentence:\n",
    "        if ch == \" \":\n",
    "            if word:\n",
    "                words.append(word)\n",
    "                word = \"\"\n",
    "        else:\n",
    "            word += ch\n",
    "    if word:\n",
    "        words.append(word)\n",
    "    return words\n",
    "\n",
    "# Find vowels\n",
    "def find_vowels(sentence):\n",
    "    vowels = []\n",
    "    for ch in sentence:\n",
    "        if ch.lower() in 'aeiou':\n",
    "            vowels.append(ch)\n",
    "    return vowels\n",
    "\n",
    "# Count repeating characters\n",
    "def count_repeating_characters(sentence):\n",
    "    char_count = {}\n",
    "    for ch in sentence:\n",
    "        if ch in char_count:\n",
    "            char_count[ch] += 1\n",
    "        else:\n",
    "            char_count[ch] = 1\n",
    "    repeating_chars = {ch: count for ch, count in char_count.items() if count > 1}\n",
    "    return repeating_chars\n",
    "\n",
    "print(\"Reversed Sentence:\", reverse_sentence(sentence))\n",
    "print(\"Indexes of Even Letters:\", even_letter_indexes(sentence))\n",
    "print(\"Indexes of Odd Letters:\", odd_letter_indexes(sentence))\n",
    "print(\"Words in Sentence:\", split_words(sentence))\n",
    "print(\"Vowels in Sentence:\", find_vowels(sentence))\n",
    "print(\"Repeating Characters Count:\", count_repeating_characters(sentence))\n",
    "\n",
    "sentence = input(\"Enter a sentence: \")\n",
    "print(\"Input Sentence:\", sentence)\n",
    "\n",
    "# Replace 'a' with '*'\n",
    "def replace_a_with_star(sentence):\n",
    "    modified_sentence = \"\"\n",
    "    for ch in sentence:\n",
    "        if ch.lower() == 'a':\n",
    "            modified_sentence += '*'\n",
    "        else:\n",
    "            modified_sentence += ch\n",
    "    return modified_sentence\n",
    "print(\"Modified Sentence:\", replace_a_with_star(sentence))"
   ]
  }
 ],
 "metadata": {
  "kernelspec": {
   "display_name": "Python [conda env:base] *",
   "language": "python",
   "name": "conda-base-py"
  },
  "language_info": {
   "codemirror_mode": {
    "name": "ipython",
    "version": 3
   },
   "file_extension": ".py",
   "mimetype": "text/x-python",
   "name": "python",
   "nbconvert_exporter": "python",
   "pygments_lexer": "ipython3",
   "version": "3.12.7"
  }
 },
 "nbformat": 4,
 "nbformat_minor": 5
}
