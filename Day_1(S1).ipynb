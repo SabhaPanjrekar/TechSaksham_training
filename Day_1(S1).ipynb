{
 "cells": [
  {
   "cell_type": "code",
   "execution_count": 1,
   "id": "993ea8e4-24e1-40ad-aaf6-4e45f54b45fa",
   "metadata": {},
   "outputs": [
    {
     "name": "stdout",
     "output_type": "stream",
     "text": [
      "Hello World\n"
     ]
    }
   ],
   "source": [
    "print(\"Hello World\")"
   ]
  },
  {
   "cell_type": "code",
   "execution_count": 6,
   "id": "53dfc4df-2e24-4fe3-8db1-01a3e86c4443",
   "metadata": {},
   "outputs": [
    {
     "name": "stdout",
     "output_type": "stream",
     "text": [
      "Name: Aaryan Sevani\n",
      "Age: 20\n",
      "Dept: CSE\n"
     ]
    }
   ],
   "source": [
    "print(\"Name: Aaryan Sevani\\nAge: 20\\nDept: CSE\")"
   ]
  },
  {
   "cell_type": "code",
   "execution_count": 7,
   "id": "d647a825-cac4-479e-88fe-bac0a9105da9",
   "metadata": {},
   "outputs": [
    {
     "data": {
      "text/plain": [
       "13"
      ]
     },
     "execution_count": 7,
     "metadata": {},
     "output_type": "execute_result"
    }
   ],
   "source": [
    "len(\"Aaryan Sevani\")"
   ]
  },
  {
   "cell_type": "code",
   "execution_count": 12,
   "id": "02adf4bd-35ff-4499-b9d5-3fb46423a89d",
   "metadata": {},
   "outputs": [
    {
     "data": {
      "text/plain": [
       "32"
      ]
     },
     "execution_count": 12,
     "metadata": {},
     "output_type": "execute_result"
    }
   ],
   "source": [
    "str = \"Walchand institute of technology\"\n",
    "len(str)"
   ]
  },
  {
   "cell_type": "code",
   "execution_count": 13,
   "id": "9a029e2c-6ee6-452b-9e26-d03459ddfb5f",
   "metadata": {},
   "outputs": [
    {
     "data": {
      "text/plain": [
       "'r'"
      ]
     },
     "execution_count": 13,
     "metadata": {},
     "output_type": "execute_result"
    }
   ],
   "source": [
    "str = \"Aaryan Sevani\"\n",
    "str[2]"
   ]
  },
  {
   "cell_type": "code",
   "execution_count": 15,
   "id": "ef425764-1e6d-425e-9c7f-28c47e710ab7",
   "metadata": {},
   "outputs": [
    {
     "data": {
      "text/plain": [
       "'n'"
      ]
     },
     "execution_count": 15,
     "metadata": {},
     "output_type": "execute_result"
    }
   ],
   "source": [
    "str[5]"
   ]
  },
  {
   "cell_type": "code",
   "execution_count": 16,
   "id": "91d88452-c82f-4a2c-a994-4db597b02f31",
   "metadata": {},
   "outputs": [
    {
     "data": {
      "text/plain": [
       "'aryan Sevani'"
      ]
     },
     "execution_count": 16,
     "metadata": {},
     "output_type": "execute_result"
    }
   ],
   "source": [
    "str = \"Aaryan Sevani\"\n",
    "str[1:]"
   ]
  },
  {
   "cell_type": "code",
   "execution_count": 17,
   "id": "8bb82480-b405-4fb1-9cb4-3be90597dcf4",
   "metadata": {},
   "outputs": [
    {
     "data": {
      "text/plain": [
       "'Aa'"
      ]
     },
     "execution_count": 17,
     "metadata": {},
     "output_type": "execute_result"
    }
   ],
   "source": [
    "str[0:2]"
   ]
  },
  {
   "cell_type": "code",
   "execution_count": 18,
   "id": "41ef2823-20a4-4a98-8e66-cb6f97168ed2",
   "metadata": {},
   "outputs": [
    {
     "data": {
      "text/plain": [
       "'Aaryan Sevani'"
      ]
     },
     "execution_count": 18,
     "metadata": {},
     "output_type": "execute_result"
    }
   ],
   "source": [
    "str[:13]"
   ]
  },
  {
   "cell_type": "code",
   "execution_count": 19,
   "id": "e061c2f2-77ff-4518-958e-289aa45dc590",
   "metadata": {},
   "outputs": [
    {
     "data": {
      "text/plain": [
       "'Aaryan Sevani'"
      ]
     },
     "execution_count": 19,
     "metadata": {},
     "output_type": "execute_result"
    }
   ],
   "source": [
    "str[:]"
   ]
  },
  {
   "cell_type": "code",
   "execution_count": 23,
   "id": "6452f953-25d4-43dc-a0ab-b1c7461ee07d",
   "metadata": {},
   "outputs": [
    {
     "data": {
      "text/plain": [
       "'Aaryan Sevani my age is 20'"
      ]
     },
     "execution_count": 23,
     "metadata": {},
     "output_type": "execute_result"
    }
   ],
   "source": [
    "str + ' my age is 20'"
   ]
  },
  {
   "cell_type": "code",
   "execution_count": 24,
   "id": "d5488a76-0017-4029-9fb1-75e55fcfc169",
   "metadata": {},
   "outputs": [
    {
     "data": {
      "text/plain": [
       "'AARYAN SEVANI'"
      ]
     },
     "execution_count": 24,
     "metadata": {},
     "output_type": "execute_result"
    }
   ],
   "source": [
    "str.upper()"
   ]
  },
  {
   "cell_type": "code",
   "execution_count": 25,
   "id": "6ebd79a7-b176-4f2f-b87b-cdcc65e774aa",
   "metadata": {},
   "outputs": [
    {
     "data": {
      "text/plain": [
       "'aaryan sevani'"
      ]
     },
     "execution_count": 25,
     "metadata": {},
     "output_type": "execute_result"
    }
   ],
   "source": [
    "str.lower()"
   ]
  },
  {
   "cell_type": "code",
   "execution_count": 26,
   "id": "3b4f0102-c1c0-4537-a7a7-9ecf9d835f2e",
   "metadata": {},
   "outputs": [
    {
     "data": {
      "text/plain": [
       "['Aaryan', 'Sevani']"
      ]
     },
     "execution_count": 26,
     "metadata": {},
     "output_type": "execute_result"
    }
   ],
   "source": [
    "str.split()"
   ]
  },
  {
   "cell_type": "code",
   "execution_count": 28,
   "id": "3eb7ef0b-44a1-4c18-b331-60d0ba7bbe30",
   "metadata": {},
   "outputs": [
    {
     "name": "stdout",
     "output_type": "stream",
     "text": [
      "Enter name Aaryan Sevani and age 20\n"
     ]
    }
   ],
   "source": [
    "print(\"Enter name {} and age {}\".format(\"Aaryan Sevani\",20))"
   ]
  },
  {
   "cell_type": "code",
   "execution_count": 30,
   "id": "f277f506-e4ae-4cfb-bfd0-ed00befff3c6",
   "metadata": {},
   "outputs": [
    {
     "name": "stdout",
     "output_type": "stream",
     "text": [
      "Blue,Red,Green\n"
     ]
    }
   ],
   "source": [
    "print(\"{2},{0},{1}\".format(\"Red\",\"Green\",\"Blue\"))"
   ]
  },
  {
   "cell_type": "code",
   "execution_count": 32,
   "id": "d3df8543-6730-44b8-b1a0-376620cc5a30",
   "metadata": {},
   "outputs": [
    {
     "data": {
      "text/plain": [
       "[1, 2, 3, 4, 5]"
      ]
     },
     "execution_count": 32,
     "metadata": {},
     "output_type": "execute_result"
    }
   ],
   "source": [
    "# mutable\n",
    "my_list = [1,2,3,4,5]\n",
    "my_list"
   ]
  },
  {
   "cell_type": "code",
   "execution_count": 35,
   "id": "fe66ff94-6c45-474c-9e03-7feafa846880",
   "metadata": {},
   "outputs": [
    {
     "name": "stdout",
     "output_type": "stream",
     "text": [
      "['Aaryan', 20]\n"
     ]
    }
   ],
   "source": [
    "list2 = [\"Aaryan\",20]\n",
    "print(list2)"
   ]
  },
  {
   "cell_type": "code",
   "execution_count": 39,
   "id": "38c6bad9-dc7d-4faf-9d2e-295714ae289b",
   "metadata": {},
   "outputs": [
    {
     "data": {
      "text/plain": [
       "5"
      ]
     },
     "execution_count": 39,
     "metadata": {},
     "output_type": "execute_result"
    }
   ],
   "source": [
    "len(my_list)"
   ]
  },
  {
   "cell_type": "code",
   "execution_count": 40,
   "id": "e7063214-c0c8-4a07-9260-9939f6b174d2",
   "metadata": {},
   "outputs": [
    {
     "data": {
      "text/plain": [
       "[1, 2, 3, 4, 5]"
      ]
     },
     "execution_count": 40,
     "metadata": {},
     "output_type": "execute_result"
    }
   ],
   "source": [
    "my_list[:]"
   ]
  },
  {
   "cell_type": "code",
   "execution_count": 41,
   "id": "8344629b-b726-475c-8456-4fad848336a4",
   "metadata": {},
   "outputs": [
    {
     "data": {
      "text/plain": [
       "[2, 3]"
      ]
     },
     "execution_count": 41,
     "metadata": {},
     "output_type": "execute_result"
    }
   ],
   "source": [
    "my_list[1:3]"
   ]
  },
  {
   "cell_type": "code",
   "execution_count": 42,
   "id": "507bef1d-b04a-4fb5-b3a7-fd92567fda3f",
   "metadata": {},
   "outputs": [
    {
     "data": {
      "text/plain": [
       "20"
      ]
     },
     "execution_count": 42,
     "metadata": {},
     "output_type": "execute_result"
    }
   ],
   "source": [
    "list2[1]"
   ]
  },
  {
   "cell_type": "code",
   "execution_count": 46,
   "id": "878b37c8-0e7c-42d1-88a5-0fd4bc853bd4",
   "metadata": {},
   "outputs": [
    {
     "data": {
      "text/plain": [
       "['Aaryan', 20, 'Dept: CSE']"
      ]
     },
     "execution_count": 46,
     "metadata": {},
     "output_type": "execute_result"
    }
   ],
   "source": [
    "list2 + [\"Dept: CSE\"]"
   ]
  },
  {
   "cell_type": "code",
   "execution_count": 47,
   "id": "749e7d6f-5128-4519-a7ff-edc5189cc7e4",
   "metadata": {},
   "outputs": [
    {
     "data": {
      "text/plain": [
       "20"
      ]
     },
     "execution_count": 47,
     "metadata": {},
     "output_type": "execute_result"
    }
   ],
   "source": [
    "list2.pop()"
   ]
  },
  {
   "cell_type": "code",
   "execution_count": 48,
   "id": "297081cf-da2c-4671-8aad-24907eb38cf2",
   "metadata": {},
   "outputs": [
    {
     "data": {
      "text/plain": [
       "'Aaryan'"
      ]
     },
     "execution_count": 48,
     "metadata": {},
     "output_type": "execute_result"
    }
   ],
   "source": [
    "list2.pop()"
   ]
  },
  {
   "cell_type": "code",
   "execution_count": 49,
   "id": "ac70db94-1b2f-44af-960e-73cd1953450c",
   "metadata": {},
   "outputs": [
    {
     "data": {
      "text/plain": [
       "{'Key1': 'value1', 'Key2': 'value2'}"
      ]
     },
     "execution_count": 49,
     "metadata": {},
     "output_type": "execute_result"
    }
   ],
   "source": [
    "# mutable\n",
    "Dict = {\"Key1\" : \"value1\",\"Key2\" : \"value2\"}\n",
    "Dict"
   ]
  },
  {
   "cell_type": "code",
   "execution_count": 50,
   "id": "3c92c11c-cb7a-4722-ae0a-ffe347a3bd3f",
   "metadata": {},
   "outputs": [
    {
     "data": {
      "text/plain": [
       "{'Name': 'Aaryan', 'Age': 20}"
      ]
     },
     "execution_count": 50,
     "metadata": {},
     "output_type": "execute_result"
    }
   ],
   "source": [
    "my_dict = {\"Name\" : \"Aaryan\",\"Age\" : 20}\n",
    "my_dict"
   ]
  },
  {
   "cell_type": "code",
   "execution_count": 59,
   "id": "cc34aceb-9e47-47e8-a9ac-222277ebf927",
   "metadata": {},
   "outputs": [
    {
     "data": {
      "text/plain": [
       "'a'"
      ]
     },
     "execution_count": 59,
     "metadata": {},
     "output_type": "execute_result"
    }
   ],
   "source": [
    "my_dict[\"Name\"][1]"
   ]
  },
  {
   "cell_type": "code",
   "execution_count": 60,
   "id": "9c5cae13-c92a-45e3-a3b8-267b793e852c",
   "metadata": {},
   "outputs": [
    {
     "data": {
      "text/plain": [
       "'AARYAN'"
      ]
     },
     "execution_count": 60,
     "metadata": {},
     "output_type": "execute_result"
    }
   ],
   "source": [
    "my_dict[\"Name\"][:].upper()"
   ]
  },
  {
   "cell_type": "code",
   "execution_count": 68,
   "id": "e68fc736-d58f-4a62-b507-26b9b4903d4f",
   "metadata": {},
   "outputs": [
    {
     "data": {
      "text/plain": [
       "{'Name': 'AaryanSevani Sevani Sevani SevaniSevaniSevaniSevani', 'Age': 20}"
      ]
     },
     "execution_count": 68,
     "metadata": {},
     "output_type": "execute_result"
    }
   ],
   "source": [
    "my_dict[\"Name\"]=my_dict[\"Name\"] + \"Sevani\"\n",
    "my_dict"
   ]
  },
  {
   "cell_type": "code",
   "execution_count": 69,
   "id": "45fad5b0-b26c-4e0e-9fcc-e098b55336bf",
   "metadata": {},
   "outputs": [
    {
     "data": {
      "text/plain": [
       "(1, 2, 3, 4, 'Aaryan', 'Sevani')"
      ]
     },
     "execution_count": 69,
     "metadata": {},
     "output_type": "execute_result"
    }
   ],
   "source": [
    "# immutable\n",
    "tuple = (1,2,3,4,\"Aaryan\",\"Sevani\")\n",
    "tuple"
   ]
  },
  {
   "cell_type": "code",
   "execution_count": 70,
   "id": "c4517bce-0fcf-4454-bdc5-987c8757ae9a",
   "metadata": {},
   "outputs": [
    {
     "data": {
      "text/plain": [
       "6"
      ]
     },
     "execution_count": 70,
     "metadata": {},
     "output_type": "execute_result"
    }
   ],
   "source": [
    "len(tuple)"
   ]
  },
  {
   "cell_type": "code",
   "execution_count": 71,
   "id": "52b51926-7db9-45aa-ae4e-bd6614ed2fdf",
   "metadata": {},
   "outputs": [
    {
     "data": {
      "text/plain": [
       "(1, 2)"
      ]
     },
     "execution_count": 71,
     "metadata": {},
     "output_type": "execute_result"
    }
   ],
   "source": [
    "tuple[0:2]"
   ]
  },
  {
   "cell_type": "code",
   "execution_count": 72,
   "id": "0b76c4de-54ba-400d-aeb9-5b0c0b37aa18",
   "metadata": {},
   "outputs": [
    {
     "data": {
      "text/plain": [
       "(1, 2, 3, 4, 'Aaryan')"
      ]
     },
     "execution_count": 72,
     "metadata": {},
     "output_type": "execute_result"
    }
   ],
   "source": [
    "tuple[:5]"
   ]
  },
  {
   "cell_type": "code",
   "execution_count": 73,
   "id": "5d0c1854-5bb5-426d-9275-415551b2c243",
   "metadata": {},
   "outputs": [
    {
     "data": {
      "text/plain": [
       "3"
      ]
     },
     "execution_count": 73,
     "metadata": {},
     "output_type": "execute_result"
    }
   ],
   "source": [
    "tuple[2]"
   ]
  },
  {
   "cell_type": "code",
   "execution_count": 74,
   "id": "7f770132-f11c-453c-9949-e4932203fc92",
   "metadata": {},
   "outputs": [
    {
     "ename": "TypeError",
     "evalue": "'tuple' object does not support item assignment",
     "output_type": "error",
     "traceback": [
      "\u001b[1;31m---------------------------------------------------------------------------\u001b[0m",
      "\u001b[1;31mTypeError\u001b[0m                                 Traceback (most recent call last)",
      "Cell \u001b[1;32mIn[74], line 1\u001b[0m\n\u001b[1;32m----> 1\u001b[0m \u001b[38;5;28mtuple\u001b[39m[\u001b[38;5;241m1\u001b[39m]\u001b[38;5;241m=\u001b[39m\u001b[38;5;241m2\u001b[39m\n",
      "\u001b[1;31mTypeError\u001b[0m: 'tuple' object does not support item assignment"
     ]
    }
   ],
   "source": [
    "tuple[1]=2\n",
    "# error as it is immutable"
   ]
  },
  {
   "cell_type": "code",
   "execution_count": 75,
   "id": "163b9076-8ac3-431d-b439-edcccbfba7fe",
   "metadata": {},
   "outputs": [
    {
     "data": {
      "text/plain": [
       "{1, 2, 3, 4, 5}"
      ]
     },
     "execution_count": 75,
     "metadata": {},
     "output_type": "execute_result"
    }
   ],
   "source": [
    "{1,3,4,5,2}"
   ]
  },
  {
   "cell_type": "code",
   "execution_count": 76,
   "id": "716ee5fc-e123-4774-9e95-185596b33ea7",
   "metadata": {},
   "outputs": [
    {
     "data": {
      "text/plain": [
       "{1, 2, 3, 4, 6, 7, 8}"
      ]
     },
     "execution_count": 76,
     "metadata": {},
     "output_type": "execute_result"
    }
   ],
   "source": [
    "{1,2,2,2,3,3,4,8,7,6}\n",
    "#no duplicate value allowed"
   ]
  },
  {
   "cell_type": "code",
   "execution_count": 77,
   "id": "3a593645-066b-40c8-b24a-35b797aa0c11",
   "metadata": {},
   "outputs": [
    {
     "data": {
      "text/plain": [
       "set"
      ]
     },
     "execution_count": 77,
     "metadata": {},
     "output_type": "execute_result"
    }
   ],
   "source": [
    "type({1,2,3})"
   ]
  },
  {
   "cell_type": "code",
   "execution_count": 78,
   "id": "ff96fa0b-9c82-4d11-a657-81660e52b799",
   "metadata": {},
   "outputs": [],
   "source": [
    "set = set()"
   ]
  },
  {
   "cell_type": "code",
   "execution_count": 79,
   "id": "9b3982ea-d1fe-452a-ad33-1288313f0518",
   "metadata": {},
   "outputs": [],
   "source": [
    "set.add(1)"
   ]
  },
  {
   "cell_type": "code",
   "execution_count": 80,
   "id": "b4308ba2-6aa8-46c4-afbf-efa8ad611f77",
   "metadata": {},
   "outputs": [],
   "source": [
    "set.add(2)"
   ]
  },
  {
   "cell_type": "code",
   "execution_count": 81,
   "id": "a1e3d3b2-7083-4eb8-82b9-43964b3ee259",
   "metadata": {},
   "outputs": [],
   "source": [
    "set.add(3)"
   ]
  },
  {
   "cell_type": "code",
   "execution_count": 82,
   "id": "4ba82ef0-3962-43f2-9af1-a01878cfe069",
   "metadata": {},
   "outputs": [
    {
     "data": {
      "text/plain": [
       "{1, 2, 3}"
      ]
     },
     "execution_count": 82,
     "metadata": {},
     "output_type": "execute_result"
    }
   ],
   "source": [
    "set"
   ]
  },
  {
   "cell_type": "code",
   "execution_count": 84,
   "id": "983a433b-ba4d-477c-a764-8448e07a2777",
   "metadata": {},
   "outputs": [],
   "source": [
    "set.add(4)"
   ]
  },
  {
   "cell_type": "code",
   "execution_count": 85,
   "id": "e18f9f7a-8fc3-418e-9893-b2b79a4a08ae",
   "metadata": {},
   "outputs": [],
   "source": [
    "set.add(4)"
   ]
  },
  {
   "cell_type": "code",
   "execution_count": 87,
   "id": "bc3b00bb-29bc-48da-8b7a-f02e76dc244c",
   "metadata": {},
   "outputs": [
    {
     "data": {
      "text/plain": [
       "{1, 2, 3, 4}"
      ]
     },
     "execution_count": 87,
     "metadata": {},
     "output_type": "execute_result"
    }
   ],
   "source": [
    "set \n",
    "#takes single value no duplication"
   ]
  },
  {
   "cell_type": "code",
   "execution_count": 88,
   "id": "a614d5cf-35ba-4e83-9822-9fd4e2f89d97",
   "metadata": {},
   "outputs": [
    {
     "name": "stdout",
     "output_type": "stream",
     "text": [
      "Yes, it's true\n"
     ]
    }
   ],
   "source": [
    "if True:\n",
    "    print(\"Yes, it's true\")"
   ]
  },
  {
   "cell_type": "code",
   "execution_count": 90,
   "id": "c1915862-85c8-442d-af4f-2ecfa364f5bb",
   "metadata": {},
   "outputs": [
    {
     "name": "stdout",
     "output_type": "stream",
     "text": [
      "a<b\n"
     ]
    }
   ],
   "source": [
    "a = 10\n",
    "b = 20\n",
    "if(a>b):\n",
    "    print(\"a>b\")\n",
    "elif(a==b):\n",
    "    print(\"a=b\")\n",
    "else:\n",
    "    print(\"a<b\")\n",
    "\n"
   ]
  }
 ],
 "metadata": {
  "kernelspec": {
   "display_name": "Python [conda env:base] *",
   "language": "python",
   "name": "conda-base-py"
  },
  "language_info": {
   "codemirror_mode": {
    "name": "ipython",
    "version": 3
   },
   "file_extension": ".py",
   "mimetype": "text/x-python",
   "name": "python",
   "nbconvert_exporter": "python",
   "pygments_lexer": "ipython3",
   "version": "3.12.7"
  }
 },
 "nbformat": 4,
 "nbformat_minor": 5
}
