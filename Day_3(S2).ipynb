{
 "cells": [
  {
   "cell_type": "code",
   "execution_count": 33,
   "id": "91f3f224-5fea-4025-8513-b8efd4a9d942",
   "metadata": {},
   "outputs": [
    {
     "data": {
      "text/plain": [
       "25"
      ]
     },
     "execution_count": 33,
     "metadata": {},
     "output_type": "execute_result"
    }
   ],
   "source": [
    "# nested dictionary\n",
    "stud_det = {\"Stud1\":{\"Age\":25,\"Roll no\":1000},\n",
    "            \"Stud2\":{\"Age\":26,\"Roll no\": 1010}}\n",
    "stud_det[\"Stud1\"][\"Age\"]"
   ]
  },
  {
   "cell_type": "code",
   "execution_count": 35,
   "id": "cb731143-667b-4c6f-bcab-432aff77fe8b",
   "metadata": {},
   "outputs": [
    {
     "data": {
      "text/plain": [
       "{'Stud1': {'Age': 25, 'Roll no': 1000}}"
      ]
     },
     "execution_count": 35,
     "metadata": {},
     "output_type": "execute_result"
    }
   ],
   "source": [
    "# To delete a value\n",
    "# del pop() and popitem()\n",
    "del stud_det[\"Stud2\"] # instead of value we can give index no.\n",
    "stud_det"
   ]
  },
  {
   "cell_type": "code",
   "execution_count": 41,
   "id": "70f8e7d1-0505-40a6-840e-8f96a57d353b",
   "metadata": {},
   "outputs": [
    {
     "data": {
      "text/plain": [
       "[1, 2, 3, 4, 5]"
      ]
     },
     "execution_count": 41,
     "metadata": {},
     "output_type": "execute_result"
    }
   ],
   "source": [
    "# if the value of list is changed later it wont affect to previous assigned list.\n",
    "list1 = [1,2,3,4,5]\n",
    "list2 = list1\n",
    "list1 = [5,6]\n",
    "list2"
   ]
  },
  {
   "cell_type": "code",
   "execution_count": 9,
   "id": "8e15ddc5-a318-4086-ac2b-a441e0460b92",
   "metadata": {},
   "outputs": [
    {
     "name": "stdin",
     "output_type": "stream",
     "text": [
      "Enter a password:  Aaryan@1223\n"
     ]
    },
    {
     "name": "stdout",
     "output_type": "stream",
     "text": [
      "Valid password..!\n"
     ]
    }
   ],
   "source": [
    "# password must be > 8 & < 16, must include alphabets,number,special char\n",
    "# print valid if it satisfies the above condition.\n",
    "# using string method\n",
    "\n",
    "import string\n",
    "\n",
    "def is_valid_password(password):\n",
    "    if 8 < len(password) < 16 and \\\n",
    "       any(char.isalpha() for char in password) and \\\n",
    "       any(char.isdigit() for char in password) and \\\n",
    "       any(char in string.punctuation for char in password):\n",
    "        return True\n",
    "    return False\n",
    "\n",
    "password = input(\"Enter a password: \")\n",
    "if is_valid_password(password):\n",
    "    print(\"Valid password..!\")\n",
    "else:\n",
    "    print(\"Invalid password\")"
   ]
  },
  {
   "cell_type": "code",
   "execution_count": 15,
   "id": "e36dbee4-97b2-48df-88d7-fa9f3976cac9",
   "metadata": {},
   "outputs": [
    {
     "name": "stdin",
     "output_type": "stream",
     "text": [
      "Enter first number:  2\n",
      "Enter second number:  3\n",
      "Enter third number:  4\n"
     ]
    },
    {
     "name": "stdout",
     "output_type": "stream",
     "text": [
      "Sum of non-duplicate numbers is: 9\n"
     ]
    }
   ],
   "source": [
    "# WAP that takes 3 numbers & calculate sum of non duplicate numbers, if there are duplicate numbers in input ignore them.\n",
    "# eg: if input- 2,3,4 output-9\n",
    "# input - 3,2,3 output- 2\n",
    "\n",
    "def sum_non_duplicates(a, b, c):\n",
    "    numbers = [a, b, c]\n",
    "    unique_numbers = [num for num in numbers if numbers.count(num) == 1]\n",
    "    return sum(unique_numbers)\n",
    "\n",
    "num1 = int(input(\"Enter first number: \"))\n",
    "num2 = int(input(\"Enter second number: \"))\n",
    "num3 = int(input(\"Enter third number: \"))\n",
    "\n",
    "result = sum_non_duplicates(num1, num2, num3)\n",
    "print(\"Sum of non-duplicate numbers is:\", result)"
   ]
  },
  {
   "cell_type": "code",
   "execution_count": 44,
   "id": "659e1887-20c6-4d17-bdaf-a7283780805d",
   "metadata": {},
   "outputs": [
    {
     "name": "stdin",
     "output_type": "stream",
     "text": [
      "Enter the limit for PhisBus game:  10\n"
     ]
    },
    {
     "name": "stdout",
     "output_type": "stream",
     "text": [
      "1\n",
      "2\n",
      "Phis\n",
      "4\n",
      "Bus\n",
      "Phis\n",
      "7\n",
      "8\n",
      "Phis\n",
      "Bus\n"
     ]
    }
   ],
   "source": [
    "# phis bus game \n",
    "# divisible by 3-> phis, divisible by 5-> bus\n",
    "# divisible by 3 & 5-> phisbus\n",
    "\n",
    "def phisbus_game(n):\n",
    "    for i in range(1, n+1):\n",
    "        if i % 3 == 0 and i % 5 == 0:\n",
    "            print(\"PhisBus\")\n",
    "        elif i % 3 == 0:\n",
    "            print(\"Phis\")\n",
    "        elif i % 5 == 0:\n",
    "            print(\"Bus\")\n",
    "        else:\n",
    "            print(i)\n",
    "\n",
    "limit = int(input(\"Enter the limit for PhisBus game: \"))\n",
    "phisbus_game(limit)"
   ]
  },
  {
   "cell_type": "code",
   "execution_count": 58,
   "id": "c97b873e-05e2-4441-b509-d749c2c9a294",
   "metadata": {},
   "outputs": [
    {
     "name": "stdin",
     "output_type": "stream",
     "text": [
      "Enter the desired length of the password:  8\n"
     ]
    },
    {
     "name": "stdout",
     "output_type": "stream",
     "text": [
      "Generated Password: %h)'VLpc\n"
     ]
    }
   ],
   "source": [
    "# random password generator\n",
    "import string\n",
    "import random\n",
    "\n",
    "def generate_password(length=12):\n",
    "    characters = string.ascii_letters + string.digits + string.punctuation\n",
    "    password = ''.join(random.choice(characters) for i in range(length))\n",
    "    return password\n",
    "\n",
    "length = int(input(\"Enter the desired length of the password: \"))\n",
    "password = generate_password(length)\n",
    "print(\"Generated Password:\", password)"
   ]
  },
  {
   "cell_type": "code",
   "execution_count": 94,
   "id": "96b2ae75-8abb-4b06-b039-335bb8cbf16f",
   "metadata": {},
   "outputs": [
    {
     "name": "stdin",
     "output_type": "stream",
     "text": [
      "Choose rock, paper, or scissors:  paper\n"
     ]
    },
    {
     "name": "stdout",
     "output_type": "stream",
     "text": [
      "Computer chose: scissors\n",
      "You lose!\n"
     ]
    }
   ],
   "source": [
    "#rock paper scissor game\n",
    "import random\n",
    "\n",
    "choices = ['rock', 'paper', 'scissors']\n",
    "user = input(\"Choose rock, paper, or scissors: \").lower()\n",
    "if user not in choices:\n",
    "    print(\"Invalid choice! Please choose rock, paper, or scissors.\")\n",
    "else:\n",
    "    computer = random.choice(choices)\n",
    "    print(\"Computer chose:\", computer)\n",
    "\n",
    "    if user == computer:\n",
    "        print(\"It's a tie!\")\n",
    "    elif (user == 'rock' and computer == 'scissors') or \\\n",
    "         (user == 'paper' and computer == 'rock') or \\\n",
    "         (user == 'scissors' and computer == 'paper'):\n",
    "        print(\"You win!\")\n",
    "    else:\n",
    "        print(\"You lose!\")"
   ]
  }
 ],
 "metadata": {
  "kernelspec": {
   "display_name": "Python [conda env:base] *",
   "language": "python",
   "name": "conda-base-py"
  },
  "language_info": {
   "codemirror_mode": {
    "name": "ipython",
    "version": 3
   },
   "file_extension": ".py",
   "mimetype": "text/x-python",
   "name": "python",
   "nbconvert_exporter": "python",
   "pygments_lexer": "ipython3",
   "version": "3.12.7"
  }
 },
 "nbformat": 4,
 "nbformat_minor": 5
}
