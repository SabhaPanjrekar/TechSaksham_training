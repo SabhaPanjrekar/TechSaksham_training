{
 "cells": [
  {
   "cell_type": "code",
   "execution_count": 1,
   "id": "dc235dd8-0881-49e5-aa59-4e86d9b5e0c8",
   "metadata": {},
   "outputs": [
    {
     "name": "stdout",
     "output_type": "stream",
     "text": [
      "Length of string is: 32\n"
     ]
    }
   ],
   "source": [
    "#calculate length of str without using len\n",
    "def cal_length(sentence):\n",
    "    count = 0\n",
    "    for ch in sentence:\n",
    "        count += 1\n",
    "    return count\n",
    "\n",
    "sentence = \"Walchand institute of technology\"\n",
    "print(\"Length of string is:\",cal_length(sentence))"
   ]
  },
  {
   "cell_type": "code",
   "execution_count": 3,
   "id": "268e3ea2-c75e-404b-ac10-c7ecaaeb311e",
   "metadata": {},
   "outputs": [
    {
     "name": "stdout",
     "output_type": "stream",
     "text": [
      "Upper String is: AARYAN SEVANI\n"
     ]
    }
   ],
   "source": [
    "#upper string\n",
    "def upper_str(sentence):\n",
    "    result = \"\"\n",
    "    for char in sentence:\n",
    "            result += chr(ord(char) & ~32) if 'a' <= char <= 'z' else char\n",
    "    return result\n",
    "sentence = \"Aaryan Sevani\"\n",
    "print(\"Upper String is:\",upper_str(sentence))\n"
   ]
  },
  {
   "cell_type": "code",
   "execution_count": 5,
   "id": "8d4ae52a-f990-408f-b02b-7927b6c514a8",
   "metadata": {},
   "outputs": [
    {
     "name": "stdout",
     "output_type": "stream",
     "text": [
      "x is: 0\n",
      "x is less than 10,adding 1 to x\n",
      "x is: 1\n",
      "x is less than 10,adding 1 to x\n",
      "x is: 2\n",
      "x is less than 10,adding 1 to x\n",
      "x is: 3\n",
      "x is less than 10,adding 1 to x\n",
      "x is: 4\n",
      "x is less than 10,adding 1 to x\n",
      "x is: 5\n",
      "x is less than 10,adding 1 to x\n",
      "x is: 6\n",
      "x is less than 10,adding 1 to x\n",
      "x is: 7\n",
      "x is less than 10,adding 1 to x\n",
      "x is: 8\n",
      "x is less than 10,adding 1 to x\n",
      "x is: 9\n",
      "x is less than 10,adding 1 to x\n",
      "All done!\n"
     ]
    }
   ],
   "source": [
    "x = 0\n",
    "while x < 10:\n",
    "    print(\"x is:\",x)\n",
    "    print(\"x is less than 10,adding 1 to x\")\n",
    "    x += 1\n",
    "else:\n",
    "    print(\"All done!\")"
   ]
  },
  {
   "cell_type": "code",
   "execution_count": 7,
   "id": "dc4733c7-c95e-4ff9-8c72-832b514a01da",
   "metadata": {},
   "outputs": [
    {
     "name": "stdout",
     "output_type": "stream",
     "text": [
      "Even nos: 0\n",
      "Even nos: 2\n",
      "Even nos: 4\n",
      "Even nos: 6\n",
      "Even nos: 8\n",
      "Even nos: 10\n",
      "Even nos: 12\n",
      "Even nos: 14\n",
      "Even nos: 16\n",
      "Even nos: 18\n",
      "Even nos: 20\n",
      "All done!\n"
     ]
    }
   ],
   "source": [
    "#even nos.\n",
    "x = 0\n",
    "while x <= 20:\n",
    "    if x % 2 == 0:\n",
    "        print(\"Even nos:\",x)\n",
    "    x+=1\n",
    "else:\n",
    "    print(\"All done!\")"
   ]
  },
  {
   "cell_type": "code",
   "execution_count": 1,
   "id": "a9914daa-677c-4b73-beb4-fd69581505eb",
   "metadata": {},
   "outputs": [
    {
     "name": "stdout",
     "output_type": "stream",
     "text": [
      "Odd nos: 1\n",
      "Odd nos: 3\n",
      "Odd nos: 5\n",
      "Odd nos: 7\n",
      "Odd nos: 9\n",
      "Odd nos: 11\n",
      "Odd nos: 13\n",
      "Odd nos: 15\n",
      "Odd nos: 17\n",
      "Odd nos: 19\n",
      "All done!\n"
     ]
    }
   ],
   "source": [
    "#odd nos.\n",
    "x = 0\n",
    "while x <= 20:\n",
    "    if x % 2 != 0:\n",
    "        print(\"Odd nos:\",x)\n",
    "    x+=1\n",
    "else:\n",
    "    print(\"All done!\")"
   ]
  },
  {
   "cell_type": "code",
   "execution_count": 11,
   "id": "abb4d974-b187-4a5c-8be7-dc0cde7d6593",
   "metadata": {},
   "outputs": [
    {
     "name": "stdout",
     "output_type": "stream",
     "text": [
      "Length of the string: 13\n"
     ]
    }
   ],
   "source": [
    "#length of str\n",
    "s = \"Aaryan Sevani\"\n",
    "count = 0\n",
    "while s[count:]:\n",
    "    count += 1\n",
    "else:\n",
    "    print(\"Length of the string:\",count)"
   ]
  },
  {
   "cell_type": "code",
   "execution_count": 25,
   "id": "0cf2cb95-29b2-4409-84d4-23e6e939066d",
   "metadata": {},
   "outputs": [
    {
     "name": "stdout",
     "output_type": "stream",
     "text": [
      "x is: 0\n",
      "x is part of the Fibonacci series, adding x & y\n",
      "x is: 1\n",
      "x is part of the Fibonacci series, adding x & y\n",
      "x is: 1\n",
      "x is part of the Fibonacci series, adding x & y\n",
      "x is: 2\n",
      "x is part of the Fibonacci series, adding x & y\n",
      "x is: 3\n",
      "x is part of the Fibonacci series, adding x & y\n",
      "x is: 5\n",
      "x is part of the Fibonacci series, adding x & y\n",
      "x is: 8\n",
      "x is part of the Fibonacci series, adding x & y\n",
      "x is: 13\n",
      "x is part of the Fibonacci series, adding x & y\n",
      "x is: 21\n",
      "x is part of the Fibonacci series, adding x & y\n",
      "x is: 34\n",
      "x is part of the Fibonacci series, adding x & y\n",
      "All done!\n"
     ]
    }
   ],
   "source": [
    "#fibonacci series\n",
    "x = 0\n",
    "y = 1\n",
    "count = 0\n",
    "n = 10 \n",
    "\n",
    "while count < n:\n",
    "    print(\"x is:\", x)\n",
    "    print(\"x is part of the Fibonacci series, adding x & y\")\n",
    "    temp = x + y\n",
    "    x = y\n",
    "    y = temp\n",
    "    count += 1\n",
    "else:\n",
    "    print(\"All done!\")"
   ]
  },
  {
   "cell_type": "code",
   "execution_count": null,
   "id": "ee2e5926-3635-449c-bd28-86f0e587e60e",
   "metadata": {},
   "outputs": [],
   "source": [
    "# oops object oriented programming structure\n",
    "# class car:\n",
    "#     def __init__(self,gear,cc)\n",
    "#                 (pointer,attribute,attribute)"
   ]
  },
  {
   "cell_type": "code",
   "execution_count": 4,
   "id": "25d42718-a02c-4f1f-9bac-7c2084315462",
   "metadata": {},
   "outputs": [
    {
     "name": "stdout",
     "output_type": "stream",
     "text": [
      "Toyota 2016\n"
     ]
    }
   ],
   "source": [
    "class car:\n",
    "    def __init__(self,modelname,year):\n",
    "        self.modelname = modelname\n",
    "        self.year = year\n",
    "    def display(self):\n",
    "        print(self.modelname,self.year)\n",
    "\n",
    "c1 = car(\"Toyota\",2016)\n",
    "c1.display()"
   ]
  },
  {
   "cell_type": "code",
   "execution_count": 10,
   "id": "78bf1f7a-f16c-480c-af53-ce13cfaf9d02",
   "metadata": {},
   "outputs": [
    {
     "name": "stdout",
     "output_type": "stream",
     "text": [
      "India XSI 2020\n"
     ]
    }
   ],
   "source": [
    "class vehicle:\n",
    "    def __init__(self,make,model,year):\n",
    "        self.make = make\n",
    "        self.model = model\n",
    "        self.year = year\n",
    "    def display(self):\n",
    "        print(self.make,self.model,self.year)\n",
    "\n",
    "c = vehicle(\"India\",\"XSI\",2020)\n",
    "c.display()"
   ]
  },
  {
   "cell_type": "code",
   "execution_count": 28,
   "id": "91668c4c-f266-4a31-95eb-bd6494dee402",
   "metadata": {},
   "outputs": [
    {
     "name": "stdout",
     "output_type": "stream",
     "text": [
      "Book \"The Great Gatsby\" added to the collection.\n",
      "Book \"1984\" added to the collection.\n",
      "Book \"To Kill a Mockingbird\" added to the collection.\n",
      "Current Books in the Library:\n",
      "1. The Great Gatsby\n",
      "2. 1984\n",
      "3. To Kill a Mockingbird\n",
      "Book \"1984\" removed from the collection.\n",
      "Current Books in the Library:\n",
      "1. The Great Gatsby\n",
      "2. To Kill a Mockingbird\n",
      "Book \"The Catcher in the Rye\" not found in the collection.\n"
     ]
    }
   ],
   "source": [
    "# Build a system to manage a collection of books. Each library object should store a list of book titles.\n",
    "# Implement methods to add a book, remove a book, and list all books in the collection. Create a library\n",
    "# object, add and remove books, and list the current collection of books.\n",
    "\n",
    "class Library:\n",
    "    def __init__(self):\n",
    "        # Initialize an empty list to store book titles\n",
    "        self.books = []\n",
    "\n",
    "    def add_book(self, title):\n",
    "        # Add a book to the collection if it's not already present\n",
    "        if title not in self.books:\n",
    "            self.books.append(title)\n",
    "            print(f'Book \"{title}\" added to the collection.')\n",
    "        else:\n",
    "            print(f'Book \"{title}\" is already in the collection.')\n",
    "\n",
    "    def remove_book(self, title):\n",
    "        # Remove a book from the collection if it exists\n",
    "        if title in self.books:\n",
    "            self.books.remove(title)\n",
    "            print(f'Book \"{title}\" removed from the collection.')\n",
    "        else:\n",
    "            print(f'Book \"{title}\" not found in the collection.')\n",
    "\n",
    "    def list_books(self):\n",
    "        # List all books currently in the collection\n",
    "        if self.books:\n",
    "            print(\"Current Books in the Library:\")\n",
    "            for idx, book in enumerate(self.books, start=1):\n",
    "                print(f'{idx}. {book}')\n",
    "        else:\n",
    "            print(\"The library collection is empty.\")\n",
    "\n",
    "\n",
    "# Example usage\n",
    "library = Library()\n",
    "\n",
    "# Add books to the library\n",
    "library.add_book(\"The Great Gatsby\")\n",
    "library.add_book(\"1984\")\n",
    "library.add_book(\"To Kill a Mockingbird\")\n",
    "\n",
    "# List all books in the library\n",
    "library.list_books()\n",
    "\n",
    "# Remove a book from the library\n",
    "library.remove_book(\"1984\")\n",
    "\n",
    "# List all books again to see the updated collection\n",
    "library.list_books()\n",
    "\n",
    "# Attempt to remove a book that doesn't exist\n",
    "library.remove_book(\"The Catcher in the Rye\")\n",
    "   \n"
   ]
  },
  {
   "cell_type": "code",
   "execution_count": 46,
   "id": "06b9ecf3-973b-46dd-9e7a-6f185a6acef9",
   "metadata": {},
   "outputs": [
    {
     "name": "stdout",
     "output_type": "stream",
     "text": [
      "Lab\n",
      "Huskie\n"
     ]
    }
   ],
   "source": [
    "# creating class with attributes\n",
    "class Dog:\n",
    "    def __init__(self,breed):\n",
    "        self.breed = breed\n",
    "    def display(self):\n",
    "        print(self.breed)\n",
    "        \n",
    "sam = Dog(breed=\"Lab\")\n",
    "frank = Dog(breed=\"Huskie\")\n",
    "\n",
    "sam.display()\n",
    "frank.display()"
   ]
  },
  {
   "cell_type": "code",
   "execution_count": 48,
   "id": "a7d4f794-06ff-435f-8943-2d0b12fa5e37",
   "metadata": {},
   "outputs": [
    {
     "name": "stdout",
     "output_type": "stream",
     "text": [
      "Rodger is a mammal\n",
      "Tommy is also a mammal\n",
      "My name is Rodger\n",
      "My name is Tommy\n"
     ]
    }
   ],
   "source": [
    "#Creating a class and object with class and instance attributes\n",
    "class Dog:\n",
    "\n",
    "\t# class attribute\n",
    "\tattr1 = \"mammal\"\n",
    "\n",
    "\t# Instance attribute\n",
    "\tdef __init__(self, name):\n",
    "\t\tself.name = name\n",
    "\n",
    "# Driver code\n",
    "# Object instantiation\n",
    "Rodger = Dog(\"Rodger\")\n",
    "Tommy = Dog(\"Tommy\")\n",
    "\n",
    "# Accessing class attributes\n",
    "print(\"Rodger is a {}\".format(Rodger.__class__.attr1))\n",
    "print(\"Tommy is also a {}\".format(Tommy.__class__.attr1))\n",
    "\n",
    "# Accessing instance attributes\n",
    "print(\"My name is {}\".format(Rodger.name))\n",
    "print(\"My name is {}\".format(Tommy.name))\n",
    "\n"
   ]
  },
  {
   "cell_type": "code",
   "execution_count": 56,
   "id": "191f19ab-e2f9-4490-bba4-bacf515fb5f0",
   "metadata": {},
   "outputs": [
    {
     "data": {
      "text/plain": [
       "[2, 4, 6]"
      ]
     },
     "execution_count": 56,
     "metadata": {},
     "output_type": "execute_result"
    }
   ],
   "source": [
    "#Return all even numbers in a list\n",
    "\n",
    "def check_even_list(num_list):\n",
    "    \n",
    "    even_numbers = []\n",
    "    \n",
    "    # Go through each number\n",
    "    for number in num_list:\n",
    "        # Once we get a \"hit\" on an even number, we append the even number\n",
    "        if number % 2 == 0:\n",
    "            even_numbers.append(number)\n",
    "        # Don't do anything if its not even\n",
    "        else:\n",
    "            pass\n",
    "    # Notice the indentation! This ensures we run through the entire for loop    \n",
    "    return even_numbers\n",
    "check_even_list([1,2,3,4,5,6])"
   ]
  },
  {
   "cell_type": "code",
   "execution_count": 76,
   "id": "b0dffcdb-a234-4c2d-a8dd-b85f97218e0e",
   "metadata": {},
   "outputs": [
    {
     "name": "stdout",
     "output_type": "stream",
     "text": [
      "Rahul\n",
      "886012\n",
      "My name is Rahul\n",
      "IdNumber: 886012\n",
      "Post: Intern\n"
     ]
    }
   ],
   "source": [
    "# Python code to demonstrate how parent constructors are called\n",
    "# Inheritance\n",
    "\n",
    "# parent class\n",
    "class Person(object):\n",
    "    \n",
    "     # __init__ is known as a constructor\n",
    "    def __init__(self,name,idnumber):\n",
    "        self.name = name\n",
    "        self.idnumber = idnumber\n",
    "        \n",
    "    # display method\n",
    "    def display(self):\n",
    "        print(self.name)\n",
    "        print(self.idnumber)\n",
    "\n",
    "    # details method\n",
    "    def details(self):\n",
    "        print(\"My name is {}\".format(self.name))\n",
    "        print(\"IdNumber {}\".format(self.idnumber))\n",
    "\n",
    "# child classs\n",
    "class Employee(Person):\n",
    "    def __init__(self,name,idnumber,salary,post):\n",
    "        self.salary = salary\n",
    "        self.post = post\n",
    "\n",
    "        #invoking the __init__ of the parent class\n",
    "        Person.__init__(self,name,idnumber)\n",
    "\n",
    "    def details(self):\n",
    "        print(\"My name is {}\".format(self.name))\n",
    "        print(\"IdNumber: {}\".format(self.idnumber))\n",
    "        print(\"Post: {}\".format(self.post))\n",
    "\n",
    "# creation of an object variable or an instance\n",
    "a = Employee(\"Rahul\", 886012, 200000, \"Intern\")\n",
    "\n",
    "# calling a function of the class person using its instance\n",
    "a.display()\n",
    "a.details()"
   ]
  },
  {
   "cell_type": "code",
   "execution_count": 96,
   "id": "063aeaa7-1db8-4235-abb9-8af3e35cf97b",
   "metadata": {},
   "outputs": [
    {
     "name": "stdout",
     "output_type": "stream",
     "text": [
      "Dad's Name: Jay, Age: 40\n",
      "Hello, I am Jay, the father.\n",
      "Blood Group: B+, Hemoglobin: 12\n",
      "Hello, I am the child of this family.\n",
      "Dad's Name: Joy, Age: 10\n",
      "Hello, I am Joy, the father.\n",
      "Blood Group: O+, Hemoglobin: 14\n",
      "Hobby: Painting\n",
      "Hi! I am the grandchild.\n"
     ]
    }
   ],
   "source": [
    "# Dad-> class (2 method)\n",
    "# Mom-> class (2 method)\n",
    "# Child(Dad,Mom)-> object\n",
    "# -use 1 method from Dad\n",
    "# -use 1 method from Mom\n",
    "# -another 2 methods\n",
    "# Grandchild-> object\n",
    "# -use 1 method from Dad\n",
    "# -use 1 method from Mom\n",
    "# -use 1 method from Child\n",
    "\n",
    "class Dad:\n",
    "\n",
    "    def __init__(self, name, age):\n",
    "        self.name = name\n",
    "        self.age = age\n",
    "\n",
    "    def display_info(self):\n",
    "        print(f\"Dad's Name: {self.name}, Age: {self.age}\")\n",
    "\n",
    "    def greet(self):\n",
    "        print(f\"Hello, I am {self.name}, the father.\")\n",
    "\n",
    "\n",
    "class Mom:\n",
    "\n",
    "    def __init__(self, weight, height):\n",
    "        self.weight = weight\n",
    "        self.height = height\n",
    "\n",
    "    def display_info(self):\n",
    "        print(f\"Mom's Weight: {self.weight} kg, Height: {self.height} m\")\n",
    "\n",
    "    def greet(self):\n",
    "        print(\"Hello, I am the mother.\")\n",
    "\n",
    "\n",
    "class Child(Dad, Mom):\n",
    "\n",
    "    def __init__(self, name, age, weight, height, bloodgrp, hb):\n",
    "        Dad.__init__(self, name, age)\n",
    "        Mom.__init__(self, weight, height)\n",
    "        self.bloodgrp = bloodgrp\n",
    "        self.hb = hb\n",
    "\n",
    "    def display_child_info(self):\n",
    "        print(f\"Blood Group: {self.bloodgrp}, Hemoglobin: {self.hb}\")\n",
    "\n",
    "    def greet_child(self):\n",
    "        print(\"Hello, I am the child of this family.\")\n",
    "\n",
    "\n",
    "class Grandchild(Child):\n",
    "\n",
    "    def __init__(self, name, age, weight, height, bloodgrp, hb, hobby):\n",
    "        super().__init__(name, age, weight, height, bloodgrp, hb)\n",
    "        self.hobby = hobby\n",
    "\n",
    "    def display_grandchild_info(self):\n",
    "        print(f\"Hobby: {self.hobby}\")\n",
    "\n",
    "    def greet_grandchild(self):\n",
    "        print(\"Hi! I am the grandchild.\")\n",
    "\n",
    "\n",
    "a = Child(\"Jay\", 40, 70, 5.9, \"B+\", 12)\n",
    "a.display_info()  # From Dad\n",
    "a.greet()         # From Dad\n",
    "a.display_child_info()\n",
    "a.greet_child()\n",
    "\n",
    "b = Grandchild(\"Joy\", 10, 35, 4.5, \"O+\", 14, \"Painting\")\n",
    "b.display_info()             # From Dad\n",
    "b.greet()                    # From Dad\n",
    "b.display_child_info()       # From Child\n",
    "b.display_grandchild_info()  # From Grandchild\n",
    "b.greet_grandchild()"
   ]
  }
 ],
 "metadata": {
  "kernelspec": {
   "display_name": "Python [conda env:base] *",
   "language": "python",
   "name": "conda-base-py"
  },
  "language_info": {
   "codemirror_mode": {
    "name": "ipython",
    "version": 3
   },
   "file_extension": ".py",
   "mimetype": "text/x-python",
   "name": "python",
   "nbconvert_exporter": "python",
   "pygments_lexer": "ipython3",
   "version": "3.12.7"
  }
 },
 "nbformat": 4,
 "nbformat_minor": 5
}
