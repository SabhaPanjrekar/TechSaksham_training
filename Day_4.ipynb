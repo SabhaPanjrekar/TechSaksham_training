{
 "cells": [
  {
   "cell_type": "code",
   "execution_count": 49,
   "id": "6d72e6e3-d38b-4b4a-9b50-54e1cee09186",
   "metadata": {},
   "outputs": [
    {
     "name": "stdout",
     "output_type": "stream",
     "text": [
      "<class '__main__.Point'>\n",
      "True\n"
     ]
    }
   ],
   "source": [
    "class Point:\n",
    "    def draw(self):\n",
    "        print(\"draw\")\n",
    "\n",
    "point = Point()\n",
    "print(type(point))\n",
    "print(isinstance(point, Point))"
   ]
  },
  {
   "cell_type": "code",
   "execution_count": 51,
   "id": "782b21de-71ed-4108-b5bc-334b96145151",
   "metadata": {},
   "outputs": [
    {
     "name": "stdout",
     "output_type": "stream",
     "text": [
      "init method called by default\n"
     ]
    }
   ],
   "source": [
    "# default constructor / non parameterized constructor\n",
    "class Student:\n",
    "    id_no = 10 # class variables\n",
    "    name = 'stud1'\n",
    "    def __init__(self):        \n",
    "        print(\"init method called by default\")\n",
    "\n",
    "        \n",
    "stud = Student()"
   ]
  },
  {
   "cell_type": "code",
   "execution_count": 53,
   "id": "dc9e2b22-6087-4f90-b3bd-dfdbe0b22ea6",
   "metadata": {},
   "outputs": [
    {
     "data": {
      "text/plain": [
       "10"
      ]
     },
     "execution_count": 53,
     "metadata": {},
     "output_type": "execute_result"
    }
   ],
   "source": [
    "stud.id_no"
   ]
  },
  {
   "cell_type": "code",
   "execution_count": 55,
   "id": "b7d580f8-3d88-4c50-af35-3d85cb283e54",
   "metadata": {},
   "outputs": [
    {
     "name": "stdout",
     "output_type": "stream",
     "text": [
      "Jack\n",
      "20\n",
      "Hello my name is Jack         and I am 20 years old\n"
     ]
    }
   ],
   "source": [
    "# parameterized constructor\n",
    "\n",
    "class Person:\n",
    "    def __init__(self, name, age):\n",
    "        self.name = name # instance variable\n",
    "        self.age = age\n",
    "        \n",
    "    def myfun(self):\n",
    "        print(f\"Hello my name is {self.name} \\\n",
    "        and I am {self.age} years old\")\n",
    "        \n",
    "\n",
    "p1 = Person('Jack', 20)\n",
    "print(p1.name)\n",
    "print(p1.age)\n",
    "\n",
    "p1.myfun()"
   ]
  },
  {
   "cell_type": "code",
   "execution_count": 57,
   "id": "a95db2d5-3610-497e-981c-1e67491261a4",
   "metadata": {},
   "outputs": [
    {
     "name": "stdout",
     "output_type": "stream",
     "text": [
      "This is second constructor\n"
     ]
    }
   ],
   "source": [
    "class MulConst:\n",
    "    def __init__(self):\n",
    "        print(\"This is first constructor\")\n",
    "        \n",
    "    def __init__(self):\n",
    "        print(\"This is second constructor\")\n",
    "        \n",
    "p1 = MulConst()"
   ]
  },
  {
   "cell_type": "code",
   "execution_count": 59,
   "id": "80a42b93-ec35-4896-ab1a-cfd75e1b36a0",
   "metadata": {},
   "outputs": [],
   "source": [
    "Student.id_no = 20"
   ]
  },
  {
   "cell_type": "code",
   "execution_count": 61,
   "id": "9ace47b7-fbdd-4934-9c08-984894e9555e",
   "metadata": {},
   "outputs": [
    {
     "name": "stdout",
     "output_type": "stream",
     "text": [
      "init method called by default\n"
     ]
    }
   ],
   "source": [
    "obj = Student()"
   ]
  },
  {
   "cell_type": "code",
   "execution_count": 63,
   "id": "2fc3ef21-90b4-4f94-bb3b-7df7ebb5db33",
   "metadata": {},
   "outputs": [
    {
     "data": {
      "text/plain": [
       "20"
      ]
     },
     "execution_count": 63,
     "metadata": {},
     "output_type": "execute_result"
    }
   ],
   "source": [
    "obj.id_no"
   ]
  },
  {
   "cell_type": "code",
   "execution_count": 65,
   "id": "dcb649c5-3d5c-4794-967b-70b74ec2fcf8",
   "metadata": {},
   "outputs": [
    {
     "name": "stdout",
     "output_type": "stream",
     "text": [
      "__str__ magic function\n"
     ]
    }
   ],
   "source": [
    "# magic method\n",
    "\n",
    "class Point:\n",
    "    \n",
    "    def __init__(self, x,y):\n",
    "        self.x = x\n",
    "        self.y = y\n",
    "        \n",
    "    def __str__(self):\n",
    "        return (f\"__str__ magic function\")\n",
    "    \n",
    "    def draw(self):\n",
    "        print(f\"Point ({self.x}, {self.y})\")\n",
    "\n",
    "point = Point(3,9)\n",
    "# print(point.__str__())\n",
    "print(str(point))"
   ]
  },
  {
   "cell_type": "code",
   "execution_count": 67,
   "id": "e0ad677b-d873-4ec7-b4d4-73212130c41c",
   "metadata": {},
   "outputs": [
    {
     "name": "stdout",
     "output_type": "stream",
     "text": [
      "Point (3, 9)\n"
     ]
    }
   ],
   "source": [
    "point.draw()"
   ]
  },
  {
   "cell_type": "code",
   "execution_count": 69,
   "id": "d67c147f-d700-47f6-aa6a-6776a70b8172",
   "metadata": {},
   "outputs": [
    {
     "name": "stdout",
     "output_type": "stream",
     "text": [
      "False\n",
      "True\n"
     ]
    }
   ],
   "source": [
    "# comparision magic methods\n",
    "class Point:\n",
    "    \n",
    "    def __init__(self, x,y):\n",
    "        self.x = x\n",
    "        self.y = y\n",
    "    \n",
    "    def __eq__(self,other):\n",
    "        return self.x == other.x and self.y == other.y\n",
    "    \n",
    "    def __lt__(self, other):\n",
    "        return self.x < other.x and self.y < other.y\n",
    "\n",
    "point = Point(3,9)\n",
    "another_point = Point(13,19)\n",
    "\n",
    "print(point == another_point)\n",
    "print(point < another_point)"
   ]
  },
  {
   "cell_type": "code",
   "execution_count": 77,
   "id": "9e7a712a-7f75-4a79-af7c-56ed595b9a36",
   "metadata": {},
   "outputs": [
    {
     "name": "stdout",
     "output_type": "stream",
     "text": [
      "16 28\n",
      "-10 -10\n"
     ]
    }
   ],
   "source": [
    "# numeric magic method\n",
    "class Point:\n",
    "    \n",
    "    def __init__(self, x,y):\n",
    "        self.x = x\n",
    "        self.y = y\n",
    "    \n",
    "    def __add__(self, other):\n",
    "        return Point(self.x + other.x, self.y + other.y)\n",
    "    \n",
    "    def __sub__(self, other):\n",
    "        return Point(self.x - other.x, self.y - other.y)\n",
    "\n",
    "point = Point(3,9)\n",
    "another_point = Point(13,19)\n",
    "\n",
    "comp_add = point + another_point\n",
    "print(comp_add.x, comp_add.y)\n",
    "\n",
    "comp_sub = point - another_point\n",
    "print(comp_sub.x, comp_sub.y)"
   ]
  },
  {
   "cell_type": "code",
   "execution_count": 79,
   "id": "4017a0e5-e3f5-4436-b538-94ed759e3a7f",
   "metadata": {},
   "outputs": [
    {
     "name": "stdout",
     "output_type": "stream",
     "text": [
      "All Animals eat\n"
     ]
    }
   ],
   "source": [
    "class Animal:\n",
    "    def eat(self):\n",
    "        print(\"All Animals eat\")\n",
    "\n",
    "class Mammal(Animal):\n",
    "    def walk(self):\n",
    "        print(\"Walk\")\n",
    "\n",
    "class Fish:\n",
    "    def eat(self):\n",
    "        print(\"Fish eats\")\n",
    "    def swim(self):\n",
    "        print(\"Swim\")\n",
    "obj = Mammal()\n",
    "obj.eat()"
   ]
  },
  {
   "cell_type": "code",
   "execution_count": 81,
   "id": "55ca94ce-79f9-421b-be0f-82fe3d94f78a",
   "metadata": {},
   "outputs": [],
   "source": [
    "class Animal:\n",
    "    def __init__(self):\n",
    "        self.age = 1\n",
    "        print('age :', self.age)\n",
    "    \n",
    "    def eat(self):\n",
    "        print('All Animals eats')\n",
    "\n",
    "class Mammal(Animal):\n",
    "    def __init__(self):\n",
    "        self.weight = 10\n",
    "        print(\"Weight :\",self.weight)\n",
    "        \n",
    "    def walk(self):\n",
    "        print('walk')\n",
    "\n",
    "class Fish:\n",
    "    def eat(self):\n",
    "        print('Fish eats')\n",
    "    \n",
    "    def swim(self):\n",
    "        print('swim')"
   ]
  },
  {
   "cell_type": "code",
   "execution_count": 83,
   "id": "96e965dd-a329-4854-9929-11cf25e4e490",
   "metadata": {},
   "outputs": [
    {
     "name": "stdout",
     "output_type": "stream",
     "text": [
      "Weight : 10\n"
     ]
    }
   ],
   "source": [
    "obj = Mammal()"
   ]
  },
  {
   "cell_type": "code",
   "execution_count": 85,
   "id": "00f18dbf-7a66-44fa-8645-8dc99de9e70a",
   "metadata": {},
   "outputs": [
    {
     "name": "stdout",
     "output_type": "stream",
     "text": [
      "age : 1\n"
     ]
    }
   ],
   "source": [
    "obj1 = Animal()"
   ]
  },
  {
   "cell_type": "code",
   "execution_count": 87,
   "id": "c8f51390-40ce-4b0a-b992-cd2edd23353c",
   "metadata": {},
   "outputs": [],
   "source": [
    "class Animal:  # parent\n",
    "    def __init__(self):\n",
    "        self.age = 1\n",
    "        print('age :', self.age)\n",
    "    \n",
    "    def eat(self):\n",
    "        print('All Animals eats')\n",
    "\n",
    "class Mammal(Animal): # child\n",
    "    def __init__(self):\n",
    "        self.weight = 10\n",
    "        print(\"Weight :\",self.weight)\n",
    "        \n",
    "    def walk(self):\n",
    "        print('walk')\n",
    "\n",
    "class Fish(Animal):\n",
    "    def eat(self):\n",
    "        print('Fish eats')\n",
    "    \n",
    "    def swim(self):\n",
    "        print('swim')"
   ]
  },
  {
   "cell_type": "code",
   "execution_count": 89,
   "id": "2ac90144-93ee-4dbf-8829-fd35bbff9666",
   "metadata": {},
   "outputs": [
    {
     "name": "stdout",
     "output_type": "stream",
     "text": [
      "age : 1\n"
     ]
    }
   ],
   "source": [
    "fishobj = Fish()"
   ]
  },
  {
   "cell_type": "code",
   "execution_count": 91,
   "id": "7ac0fc5e-32c6-4399-932b-be9573557b28",
   "metadata": {},
   "outputs": [
    {
     "name": "stdout",
     "output_type": "stream",
     "text": [
      "Fish eats\n"
     ]
    }
   ],
   "source": [
    "fishobj.eat()"
   ]
  },
  {
   "cell_type": "code",
   "execution_count": 93,
   "id": "e11e6516-21a0-4382-ae0f-05fd42aa9496",
   "metadata": {},
   "outputs": [
    {
     "name": "stdout",
     "output_type": "stream",
     "text": [
      "Weight : 10\n",
      "age : 1\n"
     ]
    }
   ],
   "source": [
    "class Animal:\n",
    "    def __init__(self):\n",
    "        self.age = 1\n",
    "        print('age :', self.age)\n",
    "    \n",
    "    def eat(self):\n",
    "        print('All Animals eats')\n",
    "\n",
    "class Mammal(Animal):\n",
    "    def __init__(self):\n",
    "        self.weight = 10\n",
    "        print(\"Weight :\",self.weight)\n",
    "        super().__init__()\n",
    "\n",
    "        \n",
    "    def walk(self):\n",
    "        print('walk')\n",
    "new_obj = Mammal()"
   ]
  },
  {
   "cell_type": "code",
   "execution_count": 95,
   "id": "10b9dcc4-b392-4a8a-a4e0-ceb84d5eeccf",
   "metadata": {},
   "outputs": [],
   "source": [
    "class Animal:\n",
    "    def eat(self):\n",
    "        print(\"Animal eats\")\n",
    "\n",
    "class Bird(Animal):\n",
    "    def fly(self):\n",
    "        print(\"Bird can fly\")\n",
    "\n",
    "class Chicken(Bird):\n",
    "    def fly(self):\n",
    "        print(\"Chicken can't fly like other birds\")"
   ]
  },
  {
   "cell_type": "code",
   "execution_count": 97,
   "id": "cea8fefd-62aa-4b8b-afa8-d40f7c233471",
   "metadata": {},
   "outputs": [],
   "source": [
    "chicken_obj = Chicken()"
   ]
  },
  {
   "cell_type": "code",
   "execution_count": 99,
   "id": "7f51b231-dae9-4ce9-9fd1-c644a25cdbb1",
   "metadata": {},
   "outputs": [
    {
     "name": "stdout",
     "output_type": "stream",
     "text": [
      "Animal eats\n"
     ]
    }
   ],
   "source": [
    "chicken_obj.eat()"
   ]
  },
  {
   "cell_type": "code",
   "execution_count": 101,
   "id": "b1bd256c-4792-416f-92f7-6311ab155bb1",
   "metadata": {},
   "outputs": [
    {
     "name": "stdout",
     "output_type": "stream",
     "text": [
      "Chicken can't fly like other birds\n"
     ]
    }
   ],
   "source": [
    "chicken_obj.fly()"
   ]
  },
  {
   "cell_type": "code",
   "execution_count": 103,
   "id": "1d191258-c149-4041-b6cd-17c06588df1c",
   "metadata": {},
   "outputs": [],
   "source": [
    "class Employee:\n",
    "    def greet(self):\n",
    "        print(\"Employee class\")\n",
    "\n",
    "class Person:\n",
    "    def greet(self):\n",
    "        print(\"Last greet method\")\n",
    "   \n",
    "class Manager(Person, Employee):\n",
    "    def __init__(self):\n",
    "        print(\"Manager class\")"
   ]
  },
  {
   "cell_type": "code",
   "execution_count": 105,
   "id": "b0d6ef83-7c91-4b5d-a3a7-6c860129df5d",
   "metadata": {},
   "outputs": [
    {
     "name": "stdout",
     "output_type": "stream",
     "text": [
      "Manager class\n"
     ]
    }
   ],
   "source": [
    "man_obj = Manager()"
   ]
  },
  {
   "cell_type": "code",
   "execution_count": 109,
   "id": "44abc171-4ddb-4e49-bb24-4390c850d05a",
   "metadata": {},
   "outputs": [
    {
     "name": "stdout",
     "output_type": "stream",
     "text": [
      "Last greet method\n"
     ]
    }
   ],
   "source": [
    "man_obj.greet()"
   ]
  },
  {
   "cell_type": "code",
   "execution_count": 111,
   "id": "d4f4b0d3-1e43-4daa-b216-a186ff6e7f51",
   "metadata": {},
   "outputs": [],
   "source": [
    "from abc import ABC, abstractmethod\n",
    "\n",
    "class File(ABC):\n",
    "    def __init__(self):\n",
    "        self.opened = False\n",
    "    \n",
    "    def open_file(self):\n",
    "        if self.opened:\n",
    "            print(\"File is already opened\")\n",
    "        self.opened = True\n",
    "        \n",
    "    def close(self):\n",
    "        if not self.opened:\n",
    "            print(\"File is already closed\")\n",
    "        self.opened = False\n",
    "    \n",
    "    @abstractmethod\n",
    "    def read(self):\n",
    "        pass"
   ]
  },
  {
   "cell_type": "code",
   "execution_count": 113,
   "id": "33f39a3f-b454-41e8-b5f6-eafd3c15b585",
   "metadata": {},
   "outputs": [],
   "source": [
    "class NetworkFile(File):\n",
    "    def read(self):\n",
    "        print(\"Reading data from a Network\")\n",
    "        \n",
    "networkfile = NetworkFile()"
   ]
  },
  {
   "cell_type": "code",
   "execution_count": 115,
   "id": "11b5f208-4820-42ea-8709-c15bae065c46",
   "metadata": {},
   "outputs": [
    {
     "ename": "TypeError",
     "evalue": "Can't instantiate abstract class MemoryFile without an implementation for abstract method 'read'",
     "output_type": "error",
     "traceback": [
      "\u001b[1;31m---------------------------------------------------------------------------\u001b[0m",
      "\u001b[1;31mTypeError\u001b[0m                                 Traceback (most recent call last)",
      "Cell \u001b[1;32mIn[115], line 5\u001b[0m\n\u001b[0;32m      2\u001b[0m     \u001b[38;5;28;01mdef\u001b[39;00m \u001b[38;5;21mreading\u001b[39m(\u001b[38;5;28mself\u001b[39m):\n\u001b[0;32m      3\u001b[0m         \u001b[38;5;28;01mpass\u001b[39;00m\n\u001b[1;32m----> 5\u001b[0m memoryfile \u001b[38;5;241m=\u001b[39m MemoryFile()\n",
      "\u001b[1;31mTypeError\u001b[0m: Can't instantiate abstract class MemoryFile without an implementation for abstract method 'read'"
     ]
    }
   ],
   "source": [
    "class MemoryFile(File):\n",
    "    def reading(self):\n",
    "        pass\n",
    "\n",
    "memoryfile = MemoryFile()"
   ]
  },
  {
   "cell_type": "code",
   "execution_count": 117,
   "id": "ba0d8acd-285b-4898-b3ca-dd4da08f342a",
   "metadata": {},
   "outputs": [
    {
     "data": {
      "text/plain": [
       "['__add__',\n",
       " '__class__',\n",
       " '__contains__',\n",
       " '__delattr__',\n",
       " '__dir__',\n",
       " '__doc__',\n",
       " '__eq__',\n",
       " '__format__',\n",
       " '__ge__',\n",
       " '__getattribute__',\n",
       " '__getitem__',\n",
       " '__getnewargs__',\n",
       " '__getstate__',\n",
       " '__gt__',\n",
       " '__hash__',\n",
       " '__init__',\n",
       " '__init_subclass__',\n",
       " '__iter__',\n",
       " '__le__',\n",
       " '__len__',\n",
       " '__lt__',\n",
       " '__mod__',\n",
       " '__mul__',\n",
       " '__ne__',\n",
       " '__new__',\n",
       " '__reduce__',\n",
       " '__reduce_ex__',\n",
       " '__repr__',\n",
       " '__rmod__',\n",
       " '__rmul__',\n",
       " '__setattr__',\n",
       " '__sizeof__',\n",
       " '__str__',\n",
       " '__subclasshook__',\n",
       " 'capitalize',\n",
       " 'casefold',\n",
       " 'center',\n",
       " 'count',\n",
       " 'encode',\n",
       " 'endswith',\n",
       " 'expandtabs',\n",
       " 'find',\n",
       " 'format',\n",
       " 'format_map',\n",
       " 'index',\n",
       " 'isalnum',\n",
       " 'isalpha',\n",
       " 'isascii',\n",
       " 'isdecimal',\n",
       " 'isdigit',\n",
       " 'isidentifier',\n",
       " 'islower',\n",
       " 'isnumeric',\n",
       " 'isprintable',\n",
       " 'isspace',\n",
       " 'istitle',\n",
       " 'isupper',\n",
       " 'join',\n",
       " 'ljust',\n",
       " 'lower',\n",
       " 'lstrip',\n",
       " 'maketrans',\n",
       " 'partition',\n",
       " 'removeprefix',\n",
       " 'removesuffix',\n",
       " 'replace',\n",
       " 'rfind',\n",
       " 'rindex',\n",
       " 'rjust',\n",
       " 'rpartition',\n",
       " 'rsplit',\n",
       " 'rstrip',\n",
       " 'split',\n",
       " 'splitlines',\n",
       " 'startswith',\n",
       " 'strip',\n",
       " 'swapcase',\n",
       " 'title',\n",
       " 'translate',\n",
       " 'upper',\n",
       " 'zfill']"
      ]
     },
     "execution_count": 117,
     "metadata": {},
     "output_type": "execute_result"
    }
   ],
   "source": [
    "dir(str)"
   ]
  },
  {
   "cell_type": "code",
   "execution_count": 119,
   "id": "4caaec2d-09b4-4f2a-b712-2ba236ae3fff",
   "metadata": {},
   "outputs": [],
   "source": [
    "class Text(str):\n",
    "    def duplicate(self):\n",
    "        return self + self\n",
    "    \n",
    "text = Text(\"Python\")"
   ]
  },
  {
   "cell_type": "code",
   "execution_count": 121,
   "id": "2f97def8-4871-4245-be6e-ee089fae5193",
   "metadata": {},
   "outputs": [
    {
     "data": {
      "text/plain": [
       "'PYTHON'"
      ]
     },
     "execution_count": 121,
     "metadata": {},
     "output_type": "execute_result"
    }
   ],
   "source": [
    "text.upper()"
   ]
  },
  {
   "cell_type": "code",
   "execution_count": 123,
   "id": "5ad32266-139c-44d0-8bc3-e6daf8deba0f",
   "metadata": {},
   "outputs": [
    {
     "data": {
      "text/plain": [
       "['__add__',\n",
       " '__class__',\n",
       " '__contains__',\n",
       " '__delattr__',\n",
       " '__dict__',\n",
       " '__dir__',\n",
       " '__doc__',\n",
       " '__eq__',\n",
       " '__format__',\n",
       " '__ge__',\n",
       " '__getattribute__',\n",
       " '__getitem__',\n",
       " '__getnewargs__',\n",
       " '__getstate__',\n",
       " '__gt__',\n",
       " '__hash__',\n",
       " '__init__',\n",
       " '__init_subclass__',\n",
       " '__iter__',\n",
       " '__le__',\n",
       " '__len__',\n",
       " '__lt__',\n",
       " '__mod__',\n",
       " '__module__',\n",
       " '__mul__',\n",
       " '__ne__',\n",
       " '__new__',\n",
       " '__reduce__',\n",
       " '__reduce_ex__',\n",
       " '__repr__',\n",
       " '__rmod__',\n",
       " '__rmul__',\n",
       " '__setattr__',\n",
       " '__sizeof__',\n",
       " '__str__',\n",
       " '__subclasshook__',\n",
       " '__weakref__',\n",
       " 'capitalize',\n",
       " 'casefold',\n",
       " 'center',\n",
       " 'count',\n",
       " 'duplicate',\n",
       " 'encode',\n",
       " 'endswith',\n",
       " 'expandtabs',\n",
       " 'find',\n",
       " 'format',\n",
       " 'format_map',\n",
       " 'index',\n",
       " 'isalnum',\n",
       " 'isalpha',\n",
       " 'isascii',\n",
       " 'isdecimal',\n",
       " 'isdigit',\n",
       " 'isidentifier',\n",
       " 'islower',\n",
       " 'isnumeric',\n",
       " 'isprintable',\n",
       " 'isspace',\n",
       " 'istitle',\n",
       " 'isupper',\n",
       " 'join',\n",
       " 'ljust',\n",
       " 'lower',\n",
       " 'lstrip',\n",
       " 'maketrans',\n",
       " 'partition',\n",
       " 'removeprefix',\n",
       " 'removesuffix',\n",
       " 'replace',\n",
       " 'rfind',\n",
       " 'rindex',\n",
       " 'rjust',\n",
       " 'rpartition',\n",
       " 'rsplit',\n",
       " 'rstrip',\n",
       " 'split',\n",
       " 'splitlines',\n",
       " 'startswith',\n",
       " 'strip',\n",
       " 'swapcase',\n",
       " 'title',\n",
       " 'translate',\n",
       " 'upper',\n",
       " 'zfill']"
      ]
     },
     "execution_count": 123,
     "metadata": {},
     "output_type": "execute_result"
    }
   ],
   "source": [
    "dir(Text)"
   ]
  },
  {
   "cell_type": "code",
   "execution_count": 127,
   "id": "99c0c250-4123-4fcc-96ae-bda715a4e079",
   "metadata": {},
   "outputs": [
    {
     "data": {
      "text/plain": [
       "'PythonPython'"
      ]
     },
     "execution_count": 127,
     "metadata": {},
     "output_type": "execute_result"
    }
   ],
   "source": [
    "text.duplicate()"
   ]
  },
  {
   "cell_type": "code",
   "execution_count": 31,
   "id": "1a0d4c74-d795-421a-8817-fd3588aad1d1",
   "metadata": {},
   "outputs": [
    {
     "name": "stdin",
     "output_type": "stream",
     "text": [
      "Enter your weight in kg:  75\n",
      "Enter your height in meters:  1.82\n"
     ]
    },
    {
     "name": "stdout",
     "output_type": "stream",
     "text": [
      "Your BMI is 23 and you are Normal weight.\n"
     ]
    }
   ],
   "source": [
    "# BMI Calculator\n",
    "# Write a program that interprets the Body Mass Index (BMI) based on a user's weight and height.\n",
    "# It should tell them the interpretation of their BMI based on the BMI value.\n",
    "# Under 18.5 they are underweight\n",
    "# Over 18.5 but below 25 they have a normal weight\n",
    "# Over 25 but below 30 they are slightly overweight\n",
    "# Over 30 but below 35 they are obese\n",
    "# Above 35 they are clinically obese.\n",
    "    \n",
    "weight = float(input(\"Enter your weight in kg: \"))\n",
    "height = float(input(\"Enter your height in meters: \"))\n",
    "\n",
    "bmi = round(weight / (height ** 2))\n",
    "\n",
    "if bmi < 18.5:\n",
    "    interpretation = \"Underweight\"\n",
    "elif bmi < 25:\n",
    "    interpretation = \"Normal weight\"\n",
    "elif bmi < 30:\n",
    "    interpretation = \"Slightly overweight\"\n",
    "elif bmi < 35:\n",
    "    interpretation = \"Obese\"\n",
    "else:\n",
    "    interpretation = \"Clinically obese\"\n",
    "\n",
    "print(f\"Your BMI is {bmi} and you are {interpretation}.\")"
   ]
  },
  {
   "cell_type": "code",
   "execution_count": 143,
   "id": "c97e294c-a064-4507-9f11-02ced33e5e8a",
   "metadata": {},
   "outputs": [
    {
     "name": "stdout",
     "output_type": "stream",
     "text": [
      "Welcome to Pizza Deliveries!\n"
     ]
    },
    {
     "name": "stdin",
     "output_type": "stream",
     "text": [
      "What size pizza do you want? S, M, or L:  S\n",
      "Do you want pepperoni? Y or N:  N\n",
      "Do you want extra cheese? Y or N:  Y\n"
     ]
    },
    {
     "name": "stdout",
     "output_type": "stream",
     "text": [
      "Your final bill is: Rs. 190\n"
     ]
    }
   ],
   "source": [
    "# Pizza order\n",
    "# Instructions\n",
    "# Congratulations, you've got a job at Python Pizza. Your first job is to build an automatic pizza order program.\n",
    "# Based on a user's order, work out their final bill.\n",
    "# Small Pizza: 15 dollors\n",
    "# Medium Pizza: 20 dollors\n",
    "# Large Pizza: 25 dollors\n",
    "# Pepperoni for Small Pizza: +2 dollors. Pepperoni for Medium or Large Pizza: +3 dollors. Extra cheese for any size pizza: +1 dollors\n",
    "\n",
    "print(\"Welcome to Pizza Deliveries!\")\n",
    "size = input(\"What size pizza do you want? S, M, or L: \").upper()\n",
    "add_pepperoni = input(\"Do you want pepperoni? Y or N: \").upper()\n",
    "extra_cheese = input(\"Do you want extra cheese? Y or N: \").upper()\n",
    "\n",
    "bill = 0\n",
    "\n",
    "if size == 'S':\n",
    "    bill = 150\n",
    "    if add_pepperoni == 'Y':\n",
    "        bill += 50\n",
    "elif size == 'M':\n",
    "    bill = 200\n",
    "    if add_pepperoni == 'Y':\n",
    "        bill += 60\n",
    "elif size == 'L':\n",
    "    bill = 250\n",
    "    if add_pepperoni == 'Y':\n",
    "        bill += 70\n",
    "\n",
    "if extra_cheese == 'Y':\n",
    "    bill += 40\n",
    "\n",
    "print(f\"Your final bill is: Rs. {bill}\")"
   ]
  },
  {
   "cell_type": "code",
   "execution_count": 33,
   "id": "915a0e10-a515-46d4-b74c-464995bf158f",
   "metadata": {},
   "outputs": [
    {
     "name": "stdin",
     "output_type": "stream",
     "text": [
      "Enter a year:  2024\n"
     ]
    },
    {
     "name": "stdout",
     "output_type": "stream",
     "text": [
      "Leap Year\n"
     ]
    }
   ],
   "source": [
    "# Write a program that works out whether if a given year is a leap year.\n",
    "year = int(input(\"Enter a year: \"))\n",
    "if year % 4 == 0:\n",
    "    if year % 100 == 0:\n",
    "        if year % 400 == 0:\n",
    "            print(\"Leap Year\")\n",
    "        else:\n",
    "            print(\"Not Leap Year\")\n",
    "    else:\n",
    "        print(\"Leap Year\")\n",
    "else:\n",
    "    print(\"Not Leap Year\")"
   ]
  },
  {
   "cell_type": "code",
   "execution_count": 39,
   "id": "3f3cd016-0db9-4699-ae95-16bfc52710bc",
   "metadata": {},
   "outputs": [
    {
     "name": "stdin",
     "output_type": "stream",
     "text": [
      "Enter a year:  2023\n"
     ]
    },
    {
     "name": "stdout",
     "output_type": "stream",
     "text": [
      "Not Leap Year\n"
     ]
    }
   ],
   "source": [
    "# Write a program that works out whether if a given year is a leap year.\n",
    "year = int(input(\"Enter a year: \"))\n",
    "print(\"Leap Year\" if (year % 400 == 0 or (year % 100 != 0 and year % 4 == 0)) else \"Not Leap Year\")"
   ]
  },
  {
   "cell_type": "code",
   "execution_count": 47,
   "id": "9f441934-5c76-4ffd-9ddd-2408e7a95c20",
   "metadata": {},
   "outputs": [
    {
     "name": "stdin",
     "output_type": "stream",
     "text": [
      "Enter your Height in cm:  163\n"
     ]
    },
    {
     "name": "stdout",
     "output_type": "stream",
     "text": [
      "You can Ride!\n"
     ]
    },
    {
     "name": "stdin",
     "output_type": "stream",
     "text": [
      "Enter Your Age 20\n",
      "Do you want photos? (yes/no):  y\n"
     ]
    },
    {
     "name": "stdout",
     "output_type": "stream",
     "text": [
      "The total bill is $12.\n"
     ]
    }
   ],
   "source": [
    "# Rollercoaster program\n",
    "h = float(input(\"Enter your Height in cm: \"))\n",
    "if h > 120:\n",
    "    print(\"You can Ride!\")\n",
    "    age = int(input(\"Enter Your Age\"))\n",
    "    if age < 12:\n",
    "        bill = 5\n",
    "    elif age <=18:\n",
    "        bill = 7\n",
    "    elif 45 <= age <= 55:\n",
    "        bill = 0\n",
    "    else:\n",
    "        bill = 12\n",
    "    photos = input(\"Do you want photos? (yes/no): \").lower()\n",
    "    if photos == \"yes\":\n",
    "        bill +=3\n",
    "    print(f\"The total bill is ${bill}.\")\n",
    "else:\n",
    "    print(\"You can't Ride\")"
   ]
  },
  {
   "cell_type": "code",
   "execution_count": 59,
   "id": "978e4bf7-4347-4281-991a-96f101391fea",
   "metadata": {},
   "outputs": [
    {
     "name": "stdout",
     "output_type": "stream",
     "text": [
      "🏝️ Welcome to Treasure Island. Your mission is to find the treasure. 🏴‍☠️\n"
     ]
    },
    {
     "name": "stdin",
     "output_type": "stream",
     "text": [
      "⬅️ Left or ➡️ Right?  left\n",
      "🏊 Swim or ⏱️ Wait?  wait\n",
      "🚪 Which door? 🔴 Red, 🔵 Blue, or 🟡 Yellow?  yellow\n"
     ]
    },
    {
     "name": "stdout",
     "output_type": "stream",
     "text": [
      "🏆 You Win! 🎉\n"
     ]
    }
   ],
   "source": [
    "# Treasure map\n",
    "# Instructions\n",
    "# Make your own \"Choose Your Own Adventure\" game. \n",
    "# Use conditionals such as if, else, and elif statements to lay out the logic and the story's path in your program.\n",
    "# Text Snippets from my example\n",
    "# 'You're at a crossroad. Where do you want to go? Type \"left\" or \"right\"'\n",
    "# 'You've come to a lake. There is an island in the middle of the lake. Type \"wait\" to wait for a boat. Type \"swim\" to swim across.'\n",
    "# \"You arrive at the island unharmed. There is a house with 3 doors. One red, one yellow and one blue. Which colour do you choose?\"\n",
    "# \"It's a room full of fire. Game Over.\"\n",
    "# \"You found the treasure! You Win!\"\n",
    "# \"You enter a room of beasts. Game Over.\"\n",
    "# \"You chose a door that doesn't exist. Game Over.\"\n",
    "# \"You get attacked by an angry trout. Game Over.\"\n",
    "# \"You fell into a hole. Game Over.\"\n",
    "\n",
    "print(\"🏝️ Welcome to Treasure Island. Your mission is to find the treasure. 🏴‍☠️\")\n",
    "if input(\"⬅️ Left or ➡️ Right? \").lower() == \"left\":\n",
    "    if input(\"🏊 Swim or ⏱️ Wait? \").lower() == \"wait\":\n",
    "        door = input(\"🚪 Which door? 🔴 Red, 🔵 Blue, or 🟡 Yellow? \").lower()\n",
    "        if door == \"yellow\":\n",
    "            print(\"🏆 You Win! 🎉\")\n",
    "        else:\n",
    "            print(\"💀 Game Over.\")\n",
    "    else:\n",
    "        print(\"🦈 Attacked by trout. Game Over.\")\n",
    "else:\n",
    "    print(\"🕳️ Fell into a hole. Game Over.\")"
   ]
  }
 ],
 "metadata": {
  "kernelspec": {
   "display_name": "Python [conda env:base] *",
   "language": "python",
   "name": "conda-base-py"
  },
  "language_info": {
   "codemirror_mode": {
    "name": "ipython",
    "version": 3
   },
   "file_extension": ".py",
   "mimetype": "text/x-python",
   "name": "python",
   "nbconvert_exporter": "python",
   "pygments_lexer": "ipython3",
   "version": "3.12.7"
  }
 },
 "nbformat": 4,
 "nbformat_minor": 5
}
